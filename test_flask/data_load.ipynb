{
 "cells": [
  {
   "cell_type": "code",
   "execution_count": 1,
   "metadata": {},
   "outputs": [],
   "source": [
    "# Dependencies\n",
    "# ----------------------------------\n",
    "import pandas as pd\n",
    "\n",
    "# Imports the method used for connecting to DBs\n",
    "from sqlalchemy import create_engine\n",
    "\n",
    "# Imports the methods needed to abstract classes into tables\n",
    "from sqlalchemy.ext.declarative import declarative_base\n",
    "\n",
    "# Allow us to declare column types\n",
    "from sqlalchemy import Column, Integer, String, Float, Date, DateTime\n",
    "\n",
    "from sqlalchemy import create_engine, ForeignKey\n",
    "\n",
    "Base = declarative_base()\n",
    "\n",
    "# from sqlalchemy.types import Boolean, Date, DateTime, Float, Integer, Text, Time, Interval"
   ]
  },
  {
   "cell_type": "code",
   "execution_count": 2,
   "metadata": {},
   "outputs": [
    {
     "data": {
      "text/html": [
       "<div>\n",
       "<style scoped>\n",
       "    .dataframe tbody tr th:only-of-type {\n",
       "        vertical-align: middle;\n",
       "    }\n",
       "\n",
       "    .dataframe tbody tr th {\n",
       "        vertical-align: top;\n",
       "    }\n",
       "\n",
       "    .dataframe thead th {\n",
       "        text-align: right;\n",
       "    }\n",
       "</style>\n",
       "<table border=\"1\" class=\"dataframe\">\n",
       "  <thead>\n",
       "    <tr style=\"text-align: right;\">\n",
       "      <th></th>\n",
       "      <th>incident_id</th>\n",
       "      <th>incident_date</th>\n",
       "      <th>state</th>\n",
       "      <th>city_county</th>\n",
       "      <th>address</th>\n",
       "      <th>number_killed</th>\n",
       "      <th>number_injured</th>\n",
       "      <th>latitude</th>\n",
       "      <th>longitude</th>\n",
       "    </tr>\n",
       "  </thead>\n",
       "  <tbody>\n",
       "    <tr>\n",
       "      <th>0</th>\n",
       "      <td>1993551</td>\n",
       "      <td>2021-05-03</td>\n",
       "      <td>Michigan</td>\n",
       "      <td>Saginaw</td>\n",
       "      <td>1315 Randolph St</td>\n",
       "      <td>1</td>\n",
       "      <td>4</td>\n",
       "      <td>43.403320</td>\n",
       "      <td>-83.947553</td>\n",
       "    </tr>\n",
       "    <tr>\n",
       "      <th>1</th>\n",
       "      <td>1993090</td>\n",
       "      <td>2021-05-02</td>\n",
       "      <td>Ohio</td>\n",
       "      <td>Columbus</td>\n",
       "      <td>491 Park St</td>\n",
       "      <td>0</td>\n",
       "      <td>4</td>\n",
       "      <td>39.972228</td>\n",
       "      <td>-83.005167</td>\n",
       "    </tr>\n",
       "    <tr>\n",
       "      <th>2</th>\n",
       "      <td>1993664</td>\n",
       "      <td>2021-05-02</td>\n",
       "      <td>Pennsylvania</td>\n",
       "      <td>Philadelphia</td>\n",
       "      <td>5200 block of Burton St</td>\n",
       "      <td>1</td>\n",
       "      <td>3</td>\n",
       "      <td>40.015002</td>\n",
       "      <td>-75.070959</td>\n",
       "    </tr>\n",
       "    <tr>\n",
       "      <th>3</th>\n",
       "      <td>1993221</td>\n",
       "      <td>2021-05-02</td>\n",
       "      <td>Maryland</td>\n",
       "      <td>Baltimore</td>\n",
       "      <td>1500 block of Washington Blvd</td>\n",
       "      <td>1</td>\n",
       "      <td>3</td>\n",
       "      <td>39.278954</td>\n",
       "      <td>-76.642987</td>\n",
       "    </tr>\n",
       "    <tr>\n",
       "      <th>4</th>\n",
       "      <td>1993280</td>\n",
       "      <td>2021-05-02</td>\n",
       "      <td>Illinois</td>\n",
       "      <td>Chicago</td>\n",
       "      <td>2100 block of W Adams St</td>\n",
       "      <td>0</td>\n",
       "      <td>5</td>\n",
       "      <td>41.878778</td>\n",
       "      <td>-87.679500</td>\n",
       "    </tr>\n",
       "  </tbody>\n",
       "</table>\n",
       "</div>"
      ],
      "text/plain": [
       "   incident_id incident_date         state   city_county  \\\n",
       "0      1993551    2021-05-03      Michigan       Saginaw   \n",
       "1      1993090    2021-05-02          Ohio      Columbus   \n",
       "2      1993664    2021-05-02  Pennsylvania  Philadelphia   \n",
       "3      1993221    2021-05-02      Maryland     Baltimore   \n",
       "4      1993280    2021-05-02      Illinois       Chicago   \n",
       "\n",
       "                         address  number_killed  number_injured   latitude  \\\n",
       "0               1315 Randolph St              1               4  43.403320   \n",
       "1                    491 Park St              0               4  39.972228   \n",
       "2        5200 block of Burton St              1               3  40.015002   \n",
       "3  1500 block of Washington Blvd              1               3  39.278954   \n",
       "4       2100 block of W Adams St              0               5  41.878778   \n",
       "\n",
       "   longitude  \n",
       "0 -83.947553  \n",
       "1 -83.005167  \n",
       "2 -75.070959  \n",
       "3 -76.642987  \n",
       "4 -87.679500  "
      ]
     },
     "execution_count": 2,
     "metadata": {},
     "output_type": "execute_result"
    }
   ],
   "source": [
    "msa_df = pd.read_csv('../data/final_msa.csv', index_col=0)\n",
    "msa_df.head()"
   ]
  },
  {
   "cell_type": "code",
   "execution_count": 3,
   "metadata": {},
   "outputs": [],
   "source": [
    "msa_df['incident_date'] =  pd.to_datetime(msa_df['incident_date'])"
   ]
  },
  {
   "cell_type": "code",
   "execution_count": 4,
   "metadata": {},
   "outputs": [
    {
     "data": {
      "text/plain": [
       "incident_id                int64\n",
       "incident_date     datetime64[ns]\n",
       "state                     object\n",
       "city_county               object\n",
       "address                   object\n",
       "number_killed              int64\n",
       "number_injured             int64\n",
       "latitude                 float64\n",
       "longitude                float64\n",
       "dtype: object"
      ]
     },
     "execution_count": 4,
     "metadata": {},
     "output_type": "execute_result"
    }
   ],
   "source": [
    "msa_df.dtypes"
   ]
  },
  {
   "cell_type": "code",
   "execution_count": 5,
   "metadata": {},
   "outputs": [],
   "source": [
    "# class Directors(Base):\n",
    "#     __tablename__ = 'directors'\n",
    "#     director_id = Column(String, primary_key=True)\n",
    "#     director_name = Column(String(255))"
   ]
  },
  {
   "cell_type": "code",
   "execution_count": 6,
   "metadata": {},
   "outputs": [],
   "source": [
    "# Create Classes\n",
    "class Msa(Base):\n",
    "    __tablename__ = 'msa'\n",
    "    incident_id = Column(Integer, primary_key=True)\n",
    "    incident_date = Column(Date)\n",
    "    state = Column(String(255))\n",
    "    city = Column(String(255))\n",
    "    address = Column(String(255))\n",
    "    killed = Column(Integer)\n",
    "    injured = Column(Integer)\n",
    "    latitude = Column(Float)\n",
    "    longitude = Column(Float)\n",
    "\n",
    "class Guns(Base):\n",
    "    __tablename__ = 'ownership_data'\n",
    "    index = Column(Integer, primary_key = True)\n",
    "    state = Column(String(255))\n",
    "    number_per_capita = Column(Float)\n",
    "    number_registered = Column(Integer)\n",
    "    \n",
    "class Poverty(Base):\n",
    "    __tablename__ = 'poverty_data'\n",
    "    rank = Column(Integer)\n",
    "    state = Column(String(255), primary_key = True)\n",
    "    poverty = Column(Float)\n",
    "\n",
    "class Election(Base):\n",
    "    __tablename__ = 'election_data'\n",
    "    state = Column(String(255), primary_key = True)\n",
    "    result = Column(String(255))\n",
    "    \n",
    "class State(Base):\n",
    "    __tablename__ = 'state_data'\n",
    "    state = Column(String(255), primary_key = True)\n",
    "    latitude = Column(Float)\n",
    "    longitude = Column(Float)"
   ]
  },
  {
   "cell_type": "code",
   "execution_count": 7,
   "metadata": {},
   "outputs": [
    {
     "data": {
      "text/plain": [
       "immutabledict({'msa': Table('msa', MetaData(bind=None), Column('incident_id', Integer(), table=<msa>, primary_key=True, nullable=False), Column('incident_date', Date(), table=<msa>), Column('state', String(length=255), table=<msa>), Column('city', String(length=255), table=<msa>), Column('address', String(length=255), table=<msa>), Column('killed', Integer(), table=<msa>), Column('injured', Integer(), table=<msa>), Column('latitude', Float(), table=<msa>), Column('longitude', Float(), table=<msa>), schema=None), 'ownership_data': Table('ownership_data', MetaData(bind=None), Column('index', Integer(), table=<ownership_data>, primary_key=True, nullable=False), Column('state', String(length=255), table=<ownership_data>), Column('number_per_capita', Float(), table=<ownership_data>), Column('number_registered', Integer(), table=<ownership_data>), schema=None), 'poverty_data': Table('poverty_data', MetaData(bind=None), Column('rank', Integer(), table=<poverty_data>), Column('state', String(length=255), table=<poverty_data>, primary_key=True, nullable=False), Column('poverty', Float(), table=<poverty_data>), schema=None), 'election_data': Table('election_data', MetaData(bind=None), Column('state', String(length=255), table=<election_data>, primary_key=True, nullable=False), Column('result', String(length=255), table=<election_data>), schema=None), 'state_data': Table('state_data', MetaData(bind=None), Column('state', String(length=255), table=<state_data>, primary_key=True, nullable=False), Column('latitude', Float(), table=<state_data>), Column('longitude', Float(), table=<state_data>), schema=None)})"
      ]
     },
     "execution_count": 7,
     "metadata": {},
     "output_type": "execute_result"
    }
   ],
   "source": [
    "# These tables only exists in python and not in the actual database\n",
    "Base.metadata.tables"
   ]
  },
  {
   "cell_type": "code",
   "execution_count": 8,
   "metadata": {},
   "outputs": [],
   "source": [
    "# Create Database Connection\n",
    "# ----------------------------------\n",
    "# Creates a connection to our DB\n",
    "engine = create_engine(\"sqlite:///../data/msa.sqlite\")\n",
    "conn = engine.connect()"
   ]
  },
  {
   "cell_type": "code",
   "execution_count": 9,
   "metadata": {},
   "outputs": [],
   "source": [
    "# Create a \"Metadata\" Layer That Abstracts our SQL Database\n",
    "# ----------------------------------\n",
    "# Create (if not already in existence) the tables associated with our classes.\n",
    "Base.metadata.create_all(engine)\n",
    "\n",
    "# Use this to clear out the db\n",
    "# ----------------------------------\n",
    "# Base.metadata.drop_all(engine)"
   ]
  },
  {
   "cell_type": "code",
   "execution_count": 10,
   "metadata": {},
   "outputs": [],
   "source": [
    "# Create a Session Object to Connect to DB\n",
    "# ----------------------------------\n",
    "# Session is a temporary binding to our DB\n",
    "from sqlalchemy.orm import Session\n",
    "session = Session(bind=engine)"
   ]
  },
  {
   "cell_type": "code",
   "execution_count": 11,
   "metadata": {},
   "outputs": [],
   "source": [
    "# Note that adding to the session does not update the table. It queues up those queries.\n",
    "# Adding data to directors table from directors csv file\n",
    "for index, name in msa_df.iterrows():\n",
    "    session.add(Msa(incident_id=name['incident_id'], incident_date=name['incident_date'], state=name['state'], \\\n",
    "                   city=name['city_county'], address=name['address'], killed=name['number_killed'], \\\n",
    "                   injured=name['number_injured'], latitude=name['latitude'], \\\n",
    "                   longitude=name['longitude']\n",
    "                   ))"
   ]
  },
  {
   "cell_type": "code",
   "execution_count": 12,
   "metadata": {},
   "outputs": [
    {
     "data": {
      "text/plain": [
       "IdentitySet([<__main__.Msa object at 0x00000213286037F0>, <__main__.Msa object at 0x00000213286037B8>, <__main__.Msa object at 0x0000021328603860>, <__main__.Msa object at 0x00000213286038D0>, <__main__.Msa object at 0x0000021328603940>, <__main__.Msa object at 0x00000213286039B0>, <__main__.Msa object at 0x0000021328603A20>, <__main__.Msa object at 0x0000021328603A90>, <__main__.Msa object at 0x0000021328603B00>, <__main__.Msa object at 0x0000021328603B70>, <__main__.Msa object at 0x0000021328603BE0>, <__main__.Msa object at 0x0000021328603C50>, <__main__.Msa object at 0x0000021328603CC0>, <__main__.Msa object at 0x0000021328603D30>, <__main__.Msa object at 0x0000021328603DA0>, <__main__.Msa object at 0x0000021328603E10>, <__main__.Msa object at 0x0000021328603E80>, <__main__.Msa object at 0x0000021328603EF0>, <__main__.Msa object at 0x0000021328603F60>, <__main__.Msa object at 0x0000021328603FD0>, <__main__.Msa object at 0x0000021328681080>, <__main__.Msa object at 0x00000213286810F0>, <__main__.Msa object at 0x0000021328681160>, <__main__.Msa object at 0x00000213286811D0>, <__main__.Msa object at 0x0000021328681240>, <__main__.Msa object at 0x00000213286812B0>, <__main__.Msa object at 0x0000021328681320>, <__main__.Msa object at 0x0000021328681390>, <__main__.Msa object at 0x0000021328681400>, <__main__.Msa object at 0x0000021328681470>, <__main__.Msa object at 0x00000213286814E0>, <__main__.Msa object at 0x0000021328681550>, <__main__.Msa object at 0x00000213286815C0>, <__main__.Msa object at 0x0000021328681630>, <__main__.Msa object at 0x00000213286816A0>, <__main__.Msa object at 0x0000021328681710>, <__main__.Msa object at 0x0000021328681780>, <__main__.Msa object at 0x00000213286817F0>, <__main__.Msa object at 0x0000021328681860>, <__main__.Msa object at 0x00000213286818D0>, <__main__.Msa object at 0x0000021328681940>, <__main__.Msa object at 0x00000213286819B0>, <__main__.Msa object at 0x0000021328681A20>, <__main__.Msa object at 0x0000021328681A90>, <__main__.Msa object at 0x0000021328681B00>, <__main__.Msa object at 0x0000021328681B70>, <__main__.Msa object at 0x0000021328681BE0>, <__main__.Msa object at 0x0000021328681C50>, <__main__.Msa object at 0x0000021328681CC0>, <__main__.Msa object at 0x0000021328681D30>, <__main__.Msa object at 0x0000021328681DA0>, <__main__.Msa object at 0x0000021328681E10>, <__main__.Msa object at 0x0000021328681E80>, <__main__.Msa object at 0x0000021328681EF0>, <__main__.Msa object at 0x0000021328681F60>, <__main__.Msa object at 0x0000021328681FD0>, <__main__.Msa object at 0x000002132868C080>, <__main__.Msa object at 0x000002132868C0F0>, <__main__.Msa object at 0x000002132868C160>, <__main__.Msa object at 0x000002132868C1D0>, <__main__.Msa object at 0x000002132868C240>, <__main__.Msa object at 0x000002132868C2B0>, <__main__.Msa object at 0x000002132868C320>, <__main__.Msa object at 0x000002132868C390>, <__main__.Msa object at 0x000002132868C400>, <__main__.Msa object at 0x000002132868C470>, <__main__.Msa object at 0x000002132868C4E0>, <__main__.Msa object at 0x000002132868C550>, <__main__.Msa object at 0x000002132868C5C0>, <__main__.Msa object at 0x000002132868C630>, <__main__.Msa object at 0x000002132868C6A0>, <__main__.Msa object at 0x000002132868C710>, <__main__.Msa object at 0x000002132868C780>, <__main__.Msa object at 0x000002132868C7F0>, <__main__.Msa object at 0x000002132868C860>, <__main__.Msa object at 0x000002132868C8D0>, <__main__.Msa object at 0x000002132868C940>, <__main__.Msa object at 0x000002132868C9B0>, <__main__.Msa object at 0x000002132868CA20>, <__main__.Msa object at 0x000002132868CA90>, <__main__.Msa object at 0x000002132868CB00>, <__main__.Msa object at 0x000002132868CB70>, <__main__.Msa object at 0x000002132868CBE0>, <__main__.Msa object at 0x000002132868CC50>, <__main__.Msa object at 0x000002132868CCC0>, <__main__.Msa object at 0x000002132868CD30>, <__main__.Msa object at 0x000002132868CDA0>, <__main__.Msa object at 0x000002132868CE10>, <__main__.Msa object at 0x000002132868CE80>, <__main__.Msa object at 0x000002132868CEF0>, <__main__.Msa object at 0x000002132868CF60>, <__main__.Msa object at 0x000002132868CFD0>, <__main__.Msa object at 0x0000021328699080>, <__main__.Msa object at 0x00000213286990F0>, <__main__.Msa object at 0x0000021328699160>, <__main__.Msa object at 0x00000213286991D0>, <__main__.Msa object at 0x0000021328699240>, <__main__.Msa object at 0x00000213286992B0>, <__main__.Msa object at 0x0000021328699320>, <__main__.Msa object at 0x0000021328699390>, <__main__.Msa object at 0x0000021328699400>, <__main__.Msa object at 0x0000021328699470>, <__main__.Msa object at 0x00000213286994E0>, <__main__.Msa object at 0x0000021328699550>, <__main__.Msa object at 0x00000213286995C0>, <__main__.Msa object at 0x0000021328699630>, <__main__.Msa object at 0x00000213286996A0>, <__main__.Msa object at 0x0000021328699710>, <__main__.Msa object at 0x0000021328699780>, <__main__.Msa object at 0x00000213286997F0>, <__main__.Msa object at 0x0000021328699860>, <__main__.Msa object at 0x00000213286998D0>, <__main__.Msa object at 0x0000021328699940>, <__main__.Msa object at 0x00000213286999B0>, <__main__.Msa object at 0x0000021328699A20>, <__main__.Msa object at 0x0000021328699A90>, <__main__.Msa object at 0x0000021328699B00>, <__main__.Msa object at 0x0000021328699B70>, <__main__.Msa object at 0x0000021328699BE0>, <__main__.Msa object at 0x0000021328699C50>, <__main__.Msa object at 0x0000021328699CC0>, <__main__.Msa object at 0x0000021328699D30>, <__main__.Msa object at 0x0000021328699DA0>, <__main__.Msa object at 0x0000021328699E10>, <__main__.Msa object at 0x0000021328699E80>, <__main__.Msa object at 0x0000021328699EF0>, <__main__.Msa object at 0x0000021328699F60>, <__main__.Msa object at 0x0000021328699FD0>, <__main__.Msa object at 0x00000213286A3080>, <__main__.Msa object at 0x00000213286A30F0>, <__main__.Msa object at 0x00000213286A3160>, <__main__.Msa object at 0x00000213286A31D0>, <__main__.Msa object at 0x00000213286A3240>, <__main__.Msa object at 0x00000213286A32B0>, <__main__.Msa object at 0x00000213286A3320>, <__main__.Msa object at 0x00000213286A3390>, <__main__.Msa object at 0x00000213286A3400>, <__main__.Msa object at 0x00000213286A3470>, <__main__.Msa object at 0x00000213286A34E0>, <__main__.Msa object at 0x00000213286A3550>, <__main__.Msa object at 0x00000213286A35C0>, <__main__.Msa object at 0x00000213286A3630>, <__main__.Msa object at 0x00000213286A36A0>, <__main__.Msa object at 0x00000213286A3710>, <__main__.Msa object at 0x00000213286A3780>, <__main__.Msa object at 0x00000213286A37F0>, <__main__.Msa object at 0x00000213286A3860>, <__main__.Msa object at 0x00000213286A38D0>, <__main__.Msa object at 0x00000213286A3940>, <__main__.Msa object at 0x00000213286A39B0>, <__main__.Msa object at 0x00000213286A3A20>, <__main__.Msa object at 0x00000213286A3A90>, <__main__.Msa object at 0x00000213286A3B00>, <__main__.Msa object at 0x00000213286A3B70>, <__main__.Msa object at 0x00000213286A3BE0>, <__main__.Msa object at 0x00000213286A3C50>, <__main__.Msa object at 0x00000213286A3CC0>, <__main__.Msa object at 0x00000213286A3D30>, <__main__.Msa object at 0x00000213286A3DA0>, <__main__.Msa object at 0x00000213286A3E10>, <__main__.Msa object at 0x00000213286A3E80>, <__main__.Msa object at 0x00000213286A3EF0>, <__main__.Msa object at 0x00000213286A3F60>, <__main__.Msa object at 0x00000213286A3FD0>, <__main__.Msa object at 0x0000021328603748>, <__main__.Msa object at 0x00000213286AF0F0>, <__main__.Msa object at 0x00000213286AF080>, <__main__.Msa object at 0x00000213286AF160>, <__main__.Msa object at 0x00000213286AF1D0>, <__main__.Msa object at 0x00000213286AF240>, <__main__.Msa object at 0x00000213286AF2B0>, <__main__.Msa object at 0x00000213286AF320>, <__main__.Msa object at 0x00000213286AF390>, <__main__.Msa object at 0x00000213286AF400>, <__main__.Msa object at 0x00000213286AF470>, <__main__.Msa object at 0x00000213286AF4E0>, <__main__.Msa object at 0x00000213286AF550>, <__main__.Msa object at 0x00000213286AF5C0>, <__main__.Msa object at 0x00000213286AF630>, <__main__.Msa object at 0x00000213286AF6A0>, <__main__.Msa object at 0x00000213286AF710>, <__main__.Msa object at 0x00000213286AF780>, <__main__.Msa object at 0x00000213286AF7F0>, <__main__.Msa object at 0x00000213286AF860>, <__main__.Msa object at 0x00000213286AF8D0>, <__main__.Msa object at 0x00000213286AF940>, <__main__.Msa object at 0x00000213286AF9B0>, <__main__.Msa object at 0x00000213286AFA20>, <__main__.Msa object at 0x00000213286AFA90>, <__main__.Msa object at 0x00000213286AFB00>, <__main__.Msa object at 0x00000213286AFB70>, <__main__.Msa object at 0x00000213286AFBE0>, <__main__.Msa object at 0x00000213286AFC50>, <__main__.Msa object at 0x00000213286AFCC0>, <__main__.Msa object at 0x00000213286AFD30>, <__main__.Msa object at 0x00000213286AFDA0>, <__main__.Msa object at 0x00000213286AFE10>, <__main__.Msa object at 0x00000213286AFE80>, <__main__.Msa object at 0x00000213286AFEF0>, <__main__.Msa object at 0x00000213286AFF60>, <__main__.Msa object at 0x00000213286AFFD0>, <__main__.Msa object at 0x00000213286BB080>, <__main__.Msa object at 0x00000213286BB0F0>, <__main__.Msa object at 0x00000213286BB160>, <__main__.Msa object at 0x00000213286BB1D0>, <__main__.Msa object at 0x00000213286BB240>, <__main__.Msa object at 0x00000213286BB2B0>, <__main__.Msa object at 0x00000213286BB320>, <__main__.Msa object at 0x00000213286BB390>, <__main__.Msa object at 0x00000213286BB400>, <__main__.Msa object at 0x00000213286BB470>, <__main__.Msa object at 0x00000213286BB4E0>, <__main__.Msa object at 0x00000213286BB550>, <__main__.Msa object at 0x00000213286BB5C0>, <__main__.Msa object at 0x00000213286BB630>, <__main__.Msa object at 0x00000213286BB6A0>, <__main__.Msa object at 0x00000213286BB710>, <__main__.Msa object at 0x00000213286BB780>, <__main__.Msa object at 0x00000213286BB7F0>, <__main__.Msa object at 0x00000213286BB860>, <__main__.Msa object at 0x00000213286BB8D0>, <__main__.Msa object at 0x00000213286BB940>, <__main__.Msa object at 0x00000213286BB9B0>, <__main__.Msa object at 0x00000213286BBA20>, <__main__.Msa object at 0x00000213286BBA90>, <__main__.Msa object at 0x00000213286BBB00>, <__main__.Msa object at 0x00000213286BBB70>, <__main__.Msa object at 0x00000213286BBBE0>, <__main__.Msa object at 0x00000213286BBC50>, <__main__.Msa object at 0x00000213286BBCC0>, <__main__.Msa object at 0x00000213286BBD30>, <__main__.Msa object at 0x00000213286BBDA0>, <__main__.Msa object at 0x00000213286BBE10>, <__main__.Msa object at 0x00000213286BBE80>, <__main__.Msa object at 0x00000213286BBEF0>, <__main__.Msa object at 0x00000213286BBF60>, <__main__.Msa object at 0x00000213286BBFD0>, <__main__.Msa object at 0x00000213286C7080>, <__main__.Msa object at 0x00000213286C70F0>, <__main__.Msa object at 0x00000213286C7160>, <__main__.Msa object at 0x00000213286C71D0>, <__main__.Msa object at 0x00000213286C7240>, <__main__.Msa object at 0x00000213286C72B0>, <__main__.Msa object at 0x00000213286C7320>, <__main__.Msa object at 0x00000213286C7390>, <__main__.Msa object at 0x00000213286C7400>, <__main__.Msa object at 0x00000213286C7470>, <__main__.Msa object at 0x00000213286C74E0>, <__main__.Msa object at 0x00000213286C7550>, <__main__.Msa object at 0x00000213286C75C0>, <__main__.Msa object at 0x00000213286C7630>, <__main__.Msa object at 0x00000213286C76A0>, <__main__.Msa object at 0x00000213286C7710>, <__main__.Msa object at 0x00000213286C7780>, <__main__.Msa object at 0x00000213286C77F0>, <__main__.Msa object at 0x00000213286C7860>, <__main__.Msa object at 0x00000213286C78D0>, <__main__.Msa object at 0x00000213286C7940>, <__main__.Msa object at 0x00000213286C79B0>, <__main__.Msa object at 0x00000213286C7A20>, <__main__.Msa object at 0x00000213286C7A90>, <__main__.Msa object at 0x00000213286C7B00>, <__main__.Msa object at 0x00000213286C7B70>, <__main__.Msa object at 0x00000213286C7BE0>, <__main__.Msa object at 0x00000213286C7C50>, <__main__.Msa object at 0x00000213286C7CC0>, <__main__.Msa object at 0x00000213286C7D30>, <__main__.Msa object at 0x00000213286C7DA0>, <__main__.Msa object at 0x00000213286C7E10>, <__main__.Msa object at 0x00000213286C7E80>, <__main__.Msa object at 0x00000213286C7EF0>, <__main__.Msa object at 0x00000213286C7F60>, <__main__.Msa object at 0x00000213286C7FD0>, <__main__.Msa object at 0x00000213286D4080>, <__main__.Msa object at 0x00000213286D40F0>, <__main__.Msa object at 0x00000213286D4160>, <__main__.Msa object at 0x00000213286D41D0>, <__main__.Msa object at 0x00000213286D4240>, <__main__.Msa object at 0x00000213286D42B0>, <__main__.Msa object at 0x00000213286D4320>, <__main__.Msa object at 0x00000213286D4390>, <__main__.Msa object at 0x00000213286D4400>, <__main__.Msa object at 0x00000213286D4470>, <__main__.Msa object at 0x00000213286D44E0>, <__main__.Msa object at 0x00000213286D4550>, <__main__.Msa object at 0x00000213286D45C0>, <__main__.Msa object at 0x00000213286D4630>, <__main__.Msa object at 0x00000213286D46A0>, <__main__.Msa object at 0x00000213286D4710>, <__main__.Msa object at 0x00000213286D4780>, <__main__.Msa object at 0x00000213286D47F0>, <__main__.Msa object at 0x00000213286D4860>, <__main__.Msa object at 0x00000213286D48D0>, <__main__.Msa object at 0x00000213286D4940>, <__main__.Msa object at 0x00000213286D49B0>, <__main__.Msa object at 0x00000213286D4A20>, <__main__.Msa object at 0x00000213286D4A90>, <__main__.Msa object at 0x00000213286D4B00>, <__main__.Msa object at 0x00000213286D4B70>, <__main__.Msa object at 0x00000213286D4BE0>, <__main__.Msa object at 0x00000213286D4C50>, <__main__.Msa object at 0x00000213286D4CC0>, <__main__.Msa object at 0x00000213286D4D30>, <__main__.Msa object at 0x00000213286D4DA0>, <__main__.Msa object at 0x00000213286D4E10>, <__main__.Msa object at 0x00000213286D4E80>, <__main__.Msa object at 0x00000213286D4EF0>, <__main__.Msa object at 0x00000213286D4F60>, <__main__.Msa object at 0x00000213286D4FD0>, <__main__.Msa object at 0x00000213286DF080>, <__main__.Msa object at 0x00000213286DF0F0>, <__main__.Msa object at 0x00000213286DF160>, <__main__.Msa object at 0x00000213286DF1D0>, <__main__.Msa object at 0x00000213286DF240>, <__main__.Msa object at 0x00000213286DF2B0>, <__main__.Msa object at 0x00000213286DF320>, <__main__.Msa object at 0x00000213286DF390>, <__main__.Msa object at 0x00000213286DF400>, <__main__.Msa object at 0x00000213286DF470>, <__main__.Msa object at 0x00000213286DF4E0>, <__main__.Msa object at 0x00000213286DF550>, <__main__.Msa object at 0x00000213286DF5C0>, <__main__.Msa object at 0x00000213286DF630>, <__main__.Msa object at 0x00000213286DF6A0>, <__main__.Msa object at 0x00000213286DF710>, <__main__.Msa object at 0x00000213286DF780>, <__main__.Msa object at 0x00000213286DF7F0>, <__main__.Msa object at 0x00000213286DF860>, <__main__.Msa object at 0x00000213286DF8D0>, <__main__.Msa object at 0x00000213286DF940>, <__main__.Msa object at 0x00000213286DF9B0>, <__main__.Msa object at 0x00000213286DFA20>, <__main__.Msa object at 0x00000213286DFA90>, <__main__.Msa object at 0x00000213286DFB00>, <__main__.Msa object at 0x00000213286DFB70>, <__main__.Msa object at 0x00000213286DFBE0>, <__main__.Msa object at 0x00000213286DFC50>, <__main__.Msa object at 0x00000213286DFCC0>, <__main__.Msa object at 0x00000213286DFD30>, <__main__.Msa object at 0x00000213286DFDA0>, <__main__.Msa object at 0x00000213286DFE10>, <__main__.Msa object at 0x00000213286DFE80>, <__main__.Msa object at 0x00000213286DFEF0>, <__main__.Msa object at 0x00000213286DFF60>, <__main__.Msa object at 0x00000213286DFFD0>, <__main__.Msa object at 0x00000213286EC080>, <__main__.Msa object at 0x00000213286EC0F0>, <__main__.Msa object at 0x00000213286EC160>, <__main__.Msa object at 0x00000213286EC1D0>, <__main__.Msa object at 0x00000213286EC240>, <__main__.Msa object at 0x00000213286EC2B0>, <__main__.Msa object at 0x00000213286EC320>, <__main__.Msa object at 0x00000213286EC390>, <__main__.Msa object at 0x00000213286EC400>, <__main__.Msa object at 0x00000213286EC470>, <__main__.Msa object at 0x00000213286EC4E0>, <__main__.Msa object at 0x00000213286EC550>, <__main__.Msa object at 0x00000213286EC5C0>, <__main__.Msa object at 0x00000213286EC630>, <__main__.Msa object at 0x00000213286EC6A0>, <__main__.Msa object at 0x00000213286EC710>, <__main__.Msa object at 0x00000213286EC780>, <__main__.Msa object at 0x00000213286EC7F0>, <__main__.Msa object at 0x00000213286EC860>, <__main__.Msa object at 0x00000213286EC8D0>, <__main__.Msa object at 0x00000213286EC940>, <__main__.Msa object at 0x00000213286EC9B0>, <__main__.Msa object at 0x00000213286ECA20>, <__main__.Msa object at 0x00000213286ECA90>, <__main__.Msa object at 0x00000213286ECB00>, <__main__.Msa object at 0x00000213286ECB70>, <__main__.Msa object at 0x00000213286ECBE0>, <__main__.Msa object at 0x00000213286ECC50>, <__main__.Msa object at 0x00000213286ECCC0>, <__main__.Msa object at 0x00000213286ECD30>, <__main__.Msa object at 0x00000213286ECDA0>, <__main__.Msa object at 0x00000213286ECE10>, <__main__.Msa object at 0x00000213286ECE80>, <__main__.Msa object at 0x00000213286ECEF0>, <__main__.Msa object at 0x00000213286ECF60>, <__main__.Msa object at 0x00000213286ECFD0>, <__main__.Msa object at 0x00000213286F7080>, <__main__.Msa object at 0x00000213286F70F0>, <__main__.Msa object at 0x00000213286F7160>, <__main__.Msa object at 0x00000213286F71D0>, <__main__.Msa object at 0x00000213286F7240>, <__main__.Msa object at 0x00000213286F72B0>, <__main__.Msa object at 0x00000213286F7320>, <__main__.Msa object at 0x00000213286F7390>, <__main__.Msa object at 0x00000213286F7400>, <__main__.Msa object at 0x00000213286F7470>, <__main__.Msa object at 0x00000213286F74E0>, <__main__.Msa object at 0x00000213286F7550>, <__main__.Msa object at 0x00000213286F75C0>, <__main__.Msa object at 0x00000213286F7630>, <__main__.Msa object at 0x00000213286F76A0>, <__main__.Msa object at 0x00000213286F7710>, <__main__.Msa object at 0x00000213286F7780>, <__main__.Msa object at 0x00000213286F77F0>, <__main__.Msa object at 0x00000213286F7860>, <__main__.Msa object at 0x00000213286F78D0>, <__main__.Msa object at 0x00000213286F7940>, <__main__.Msa object at 0x00000213286F79B0>, <__main__.Msa object at 0x00000213286F7A20>, <__main__.Msa object at 0x00000213286F7A90>, <__main__.Msa object at 0x00000213286F7B00>, <__main__.Msa object at 0x00000213286F7B70>, <__main__.Msa object at 0x00000213286F7BE0>, <__main__.Msa object at 0x00000213286F7C50>, <__main__.Msa object at 0x00000213286F7CC0>, <__main__.Msa object at 0x00000213286F7D30>, <__main__.Msa object at 0x00000213286F7DA0>, <__main__.Msa object at 0x00000213286F7E10>, <__main__.Msa object at 0x00000213286F7E80>, <__main__.Msa object at 0x00000213286F7EF0>, <__main__.Msa object at 0x00000213286F7F60>, <__main__.Msa object at 0x00000213286F7FD0>, <__main__.Msa object at 0x0000021328704080>, <__main__.Msa object at 0x00000213287040F0>, <__main__.Msa object at 0x0000021328704160>, <__main__.Msa object at 0x00000213287041D0>, <__main__.Msa object at 0x0000021328704240>, <__main__.Msa object at 0x00000213287042B0>, <__main__.Msa object at 0x0000021328704320>, <__main__.Msa object at 0x0000021328704390>, <__main__.Msa object at 0x0000021328704400>, <__main__.Msa object at 0x0000021328704470>, <__main__.Msa object at 0x00000213287044E0>, <__main__.Msa object at 0x0000021328704550>, <__main__.Msa object at 0x00000213287045C0>, <__main__.Msa object at 0x0000021328704630>, <__main__.Msa object at 0x00000213287046A0>, <__main__.Msa object at 0x0000021328704710>, <__main__.Msa object at 0x0000021328704780>, <__main__.Msa object at 0x00000213287047F0>, <__main__.Msa object at 0x0000021328704860>, <__main__.Msa object at 0x00000213287048D0>, <__main__.Msa object at 0x0000021328704940>, <__main__.Msa object at 0x00000213287049B0>, <__main__.Msa object at 0x0000021328704A20>, <__main__.Msa object at 0x0000021328704A90>, <__main__.Msa object at 0x0000021328704B00>, <__main__.Msa object at 0x0000021328704B70>, <__main__.Msa object at 0x0000021328704BE0>, <__main__.Msa object at 0x0000021328704C50>, <__main__.Msa object at 0x0000021328704CC0>, <__main__.Msa object at 0x0000021328704D30>, <__main__.Msa object at 0x0000021328704DA0>, <__main__.Msa object at 0x0000021328704E10>, <__main__.Msa object at 0x0000021328704E80>, <__main__.Msa object at 0x0000021328704EF0>, <__main__.Msa object at 0x0000021328704F60>, <__main__.Msa object at 0x0000021328704FD0>, <__main__.Msa object at 0x000002132870F080>, <__main__.Msa object at 0x000002132870F0F0>, <__main__.Msa object at 0x000002132870F160>, <__main__.Msa object at 0x000002132870F1D0>, <__main__.Msa object at 0x000002132870F240>, <__main__.Msa object at 0x000002132870F2B0>, <__main__.Msa object at 0x000002132870F320>, <__main__.Msa object at 0x000002132870F390>, <__main__.Msa object at 0x000002132870F400>, <__main__.Msa object at 0x000002132870F470>, <__main__.Msa object at 0x000002132870F4E0>, <__main__.Msa object at 0x000002132870F550>, <__main__.Msa object at 0x000002132870F5C0>, <__main__.Msa object at 0x000002132870F630>, <__main__.Msa object at 0x000002132870F6A0>, <__main__.Msa object at 0x000002132870F710>, <__main__.Msa object at 0x000002132870F780>, <__main__.Msa object at 0x000002132870F7F0>, <__main__.Msa object at 0x000002132870F860>, <__main__.Msa object at 0x000002132870F8D0>, <__main__.Msa object at 0x000002132870F940>, <__main__.Msa object at 0x000002132870F9B0>, <__main__.Msa object at 0x000002132870FA20>, <__main__.Msa object at 0x000002132870FA90>, <__main__.Msa object at 0x000002132870FB00>, <__main__.Msa object at 0x000002132870FB70>, <__main__.Msa object at 0x000002132870FBE0>, <__main__.Msa object at 0x000002132870FC50>, <__main__.Msa object at 0x000002132870FCC0>, <__main__.Msa object at 0x000002132870FD30>, <__main__.Msa object at 0x000002132870FDA0>, <__main__.Msa object at 0x000002132870FE10>, <__main__.Msa object at 0x000002132870FE80>, <__main__.Msa object at 0x000002132870FEF0>, <__main__.Msa object at 0x000002132870FF60>, <__main__.Msa object at 0x000002132870FFD0>, <__main__.Msa object at 0x000002132871C080>, <__main__.Msa object at 0x000002132871C0F0>, <__main__.Msa object at 0x000002132871C160>, <__main__.Msa object at 0x000002132871C1D0>, <__main__.Msa object at 0x000002132871C240>, <__main__.Msa object at 0x000002132871C2B0>, <__main__.Msa object at 0x000002132871C320>, <__main__.Msa object at 0x000002132871C390>, <__main__.Msa object at 0x000002132871C400>, <__main__.Msa object at 0x000002132871C470>, <__main__.Msa object at 0x000002132871C4E0>, <__main__.Msa object at 0x000002132871C550>, <__main__.Msa object at 0x000002132871C5C0>, <__main__.Msa object at 0x000002132871C630>, <__main__.Msa object at 0x000002132871C6A0>, <__main__.Msa object at 0x000002132871C710>, <__main__.Msa object at 0x000002132871C780>, <__main__.Msa object at 0x000002132871C7F0>, <__main__.Msa object at 0x000002132871C860>, <__main__.Msa object at 0x000002132871C8D0>, <__main__.Msa object at 0x000002132871C940>, <__main__.Msa object at 0x000002132871C9B0>, <__main__.Msa object at 0x000002132871CA20>, <__main__.Msa object at 0x000002132871CA90>, <__main__.Msa object at 0x000002132871CB00>, <__main__.Msa object at 0x000002132871CB70>, <__main__.Msa object at 0x000002132871CBE0>, <__main__.Msa object at 0x000002132871CC50>, <__main__.Msa object at 0x000002132871CCC0>, <__main__.Msa object at 0x000002132871CD30>, <__main__.Msa object at 0x000002132871CDA0>, <__main__.Msa object at 0x000002132871CE10>, <__main__.Msa object at 0x000002132871CE80>, <__main__.Msa object at 0x000002132871CEF0>, <__main__.Msa object at 0x000002132871CF60>, <__main__.Msa object at 0x000002132871CFD0>, <__main__.Msa object at 0x0000021328729080>, <__main__.Msa object at 0x00000213287290F0>, <__main__.Msa object at 0x0000021328729160>, <__main__.Msa object at 0x00000213287291D0>, <__main__.Msa object at 0x0000021328729240>, <__main__.Msa object at 0x00000213287292B0>, <__main__.Msa object at 0x0000021328729320>, <__main__.Msa object at 0x0000021328729390>, <__main__.Msa object at 0x0000021328729400>, <__main__.Msa object at 0x0000021328729470>, <__main__.Msa object at 0x00000213287294E0>, <__main__.Msa object at 0x0000021328729550>, <__main__.Msa object at 0x00000213287295C0>, <__main__.Msa object at 0x0000021328729630>, <__main__.Msa object at 0x00000213287296A0>, <__main__.Msa object at 0x0000021328729710>, <__main__.Msa object at 0x0000021328729780>, <__main__.Msa object at 0x00000213287297F0>, <__main__.Msa object at 0x0000021328729860>, <__main__.Msa object at 0x00000213287298D0>, <__main__.Msa object at 0x0000021328729940>, <__main__.Msa object at 0x00000213287299B0>, <__main__.Msa object at 0x0000021328729A20>, <__main__.Msa object at 0x0000021328729A90>, <__main__.Msa object at 0x0000021328729B00>, <__main__.Msa object at 0x0000021328729B70>, <__main__.Msa object at 0x0000021328729BE0>, <__main__.Msa object at 0x0000021328729C50>, <__main__.Msa object at 0x0000021328729CC0>, <__main__.Msa object at 0x0000021328729D30>, <__main__.Msa object at 0x0000021328729DA0>, <__main__.Msa object at 0x0000021328729E10>, <__main__.Msa object at 0x0000021328729E80>, <__main__.Msa object at 0x0000021328729EF0>, <__main__.Msa object at 0x0000021328729F60>, <__main__.Msa object at 0x0000021328729FD0>, <__main__.Msa object at 0x0000021328734080>, <__main__.Msa object at 0x00000213287340F0>, <__main__.Msa object at 0x0000021328734160>, <__main__.Msa object at 0x00000213287341D0>, <__main__.Msa object at 0x0000021328734240>, <__main__.Msa object at 0x00000213287342B0>, <__main__.Msa object at 0x0000021328734320>, <__main__.Msa object at 0x0000021328734390>, <__main__.Msa object at 0x0000021328734400>, <__main__.Msa object at 0x0000021328734470>, <__main__.Msa object at 0x00000213287344E0>, <__main__.Msa object at 0x0000021328734550>, <__main__.Msa object at 0x00000213287345C0>, <__main__.Msa object at 0x0000021328734630>, <__main__.Msa object at 0x00000213287346A0>, <__main__.Msa object at 0x0000021328734710>, <__main__.Msa object at 0x0000021328734780>, <__main__.Msa object at 0x00000213287347F0>, <__main__.Msa object at 0x0000021328734860>, <__main__.Msa object at 0x00000213287348D0>, <__main__.Msa object at 0x0000021328734940>, <__main__.Msa object at 0x00000213287349B0>, <__main__.Msa object at 0x0000021328734A20>, <__main__.Msa object at 0x0000021328734A90>, <__main__.Msa object at 0x0000021328734B00>, <__main__.Msa object at 0x0000021328734B70>, <__main__.Msa object at 0x0000021328734BE0>, <__main__.Msa object at 0x0000021328734C50>, <__main__.Msa object at 0x0000021328734CC0>, <__main__.Msa object at 0x0000021328734D30>, <__main__.Msa object at 0x0000021328734DA0>, <__main__.Msa object at 0x0000021328734E10>, <__main__.Msa object at 0x0000021328734E80>, <__main__.Msa object at 0x0000021328734EF0>, <__main__.Msa object at 0x0000021328734F60>, <__main__.Msa object at 0x0000021328734FD0>, <__main__.Msa object at 0x0000021328740080>, <__main__.Msa object at 0x00000213287400F0>, <__main__.Msa object at 0x0000021328740160>, <__main__.Msa object at 0x00000213287401D0>, <__main__.Msa object at 0x0000021328740240>, <__main__.Msa object at 0x00000213287402B0>, <__main__.Msa object at 0x0000021328740320>, <__main__.Msa object at 0x0000021328740390>, <__main__.Msa object at 0x0000021328740400>, <__main__.Msa object at 0x0000021328740470>, <__main__.Msa object at 0x00000213287404E0>, <__main__.Msa object at 0x0000021328740550>, <__main__.Msa object at 0x00000213287405C0>, <__main__.Msa object at 0x0000021328740630>, <__main__.Msa object at 0x00000213287406A0>, <__main__.Msa object at 0x0000021328740710>, <__main__.Msa object at 0x0000021328740780>, <__main__.Msa object at 0x00000213287407F0>, <__main__.Msa object at 0x0000021328740860>, <__main__.Msa object at 0x00000213287408D0>, <__main__.Msa object at 0x0000021328740940>, <__main__.Msa object at 0x00000213287409B0>, <__main__.Msa object at 0x0000021328740A20>, <__main__.Msa object at 0x0000021328740A90>, <__main__.Msa object at 0x0000021328740B00>, <__main__.Msa object at 0x0000021328740B70>, <__main__.Msa object at 0x0000021328740BE0>, <__main__.Msa object at 0x0000021328740C50>, <__main__.Msa object at 0x0000021328740CC0>, <__main__.Msa object at 0x0000021328740D30>, <__main__.Msa object at 0x0000021328740DA0>, <__main__.Msa object at 0x0000021328740E10>, <__main__.Msa object at 0x0000021328740E80>, <__main__.Msa object at 0x0000021328740EF0>, <__main__.Msa object at 0x0000021328740F60>, <__main__.Msa object at 0x0000021328740FD0>, <__main__.Msa object at 0x000002132874B080>, <__main__.Msa object at 0x000002132874B0F0>, <__main__.Msa object at 0x000002132874B160>, <__main__.Msa object at 0x000002132874B1D0>, <__main__.Msa object at 0x000002132874B240>, <__main__.Msa object at 0x000002132874B2B0>, <__main__.Msa object at 0x000002132874B320>, <__main__.Msa object at 0x000002132874B390>, <__main__.Msa object at 0x000002132874B400>, <__main__.Msa object at 0x000002132874B470>, <__main__.Msa object at 0x000002132874B4E0>, <__main__.Msa object at 0x000002132874B550>, <__main__.Msa object at 0x000002132874B5C0>, <__main__.Msa object at 0x000002132874B630>, <__main__.Msa object at 0x000002132874B6A0>, <__main__.Msa object at 0x000002132874B710>, <__main__.Msa object at 0x000002132874B780>, <__main__.Msa object at 0x000002132874B7F0>, <__main__.Msa object at 0x000002132874B860>, <__main__.Msa object at 0x000002132874B8D0>, <__main__.Msa object at 0x000002132874B940>, <__main__.Msa object at 0x000002132874B9B0>, <__main__.Msa object at 0x000002132874BA20>, <__main__.Msa object at 0x000002132874BA90>, <__main__.Msa object at 0x000002132874BB00>, <__main__.Msa object at 0x000002132874BB70>, <__main__.Msa object at 0x000002132874BBE0>, <__main__.Msa object at 0x000002132874BC50>, <__main__.Msa object at 0x000002132874BCC0>, <__main__.Msa object at 0x000002132874BD30>, <__main__.Msa object at 0x000002132874BDA0>, <__main__.Msa object at 0x000002132874BE10>, <__main__.Msa object at 0x000002132874BE80>, <__main__.Msa object at 0x000002132874BEF0>, <__main__.Msa object at 0x000002132874BF60>, <__main__.Msa object at 0x000002132874BFD0>, <__main__.Msa object at 0x0000021328758080>, <__main__.Msa object at 0x00000213287580F0>, <__main__.Msa object at 0x0000021328758160>, <__main__.Msa object at 0x00000213287581D0>, <__main__.Msa object at 0x0000021328758240>, <__main__.Msa object at 0x00000213287582B0>, <__main__.Msa object at 0x0000021328758320>, <__main__.Msa object at 0x0000021328758390>, <__main__.Msa object at 0x0000021328758400>, <__main__.Msa object at 0x0000021328758470>, <__main__.Msa object at 0x00000213287584E0>, <__main__.Msa object at 0x0000021328758550>, <__main__.Msa object at 0x00000213287585C0>, <__main__.Msa object at 0x0000021328758630>, <__main__.Msa object at 0x00000213287586A0>, <__main__.Msa object at 0x0000021328758710>, <__main__.Msa object at 0x0000021328758780>, <__main__.Msa object at 0x00000213287587F0>, <__main__.Msa object at 0x0000021328758860>, <__main__.Msa object at 0x00000213287588D0>, <__main__.Msa object at 0x0000021328758940>, <__main__.Msa object at 0x00000213287589B0>, <__main__.Msa object at 0x0000021328758A20>, <__main__.Msa object at 0x0000021328758A90>, <__main__.Msa object at 0x0000021328758B00>, <__main__.Msa object at 0x0000021328758B70>, <__main__.Msa object at 0x0000021328758BE0>, <__main__.Msa object at 0x0000021328758C50>, <__main__.Msa object at 0x0000021328758CC0>, <__main__.Msa object at 0x0000021328758D30>, <__main__.Msa object at 0x0000021328758DA0>, <__main__.Msa object at 0x0000021328758E10>, <__main__.Msa object at 0x0000021328758E80>, <__main__.Msa object at 0x0000021328758EF0>, <__main__.Msa object at 0x0000021328758F60>, <__main__.Msa object at 0x0000021328758FD0>, <__main__.Msa object at 0x0000021328763080>, <__main__.Msa object at 0x00000213287630F0>, <__main__.Msa object at 0x0000021328763160>, <__main__.Msa object at 0x00000213287631D0>, <__main__.Msa object at 0x0000021328763240>, <__main__.Msa object at 0x00000213287632B0>, <__main__.Msa object at 0x0000021328763320>, <__main__.Msa object at 0x0000021328763390>, <__main__.Msa object at 0x0000021328763400>, <__main__.Msa object at 0x0000021328763470>, <__main__.Msa object at 0x00000213287634E0>, <__main__.Msa object at 0x0000021328763550>, <__main__.Msa object at 0x00000213287635C0>, <__main__.Msa object at 0x0000021328763630>, <__main__.Msa object at 0x00000213287636A0>, <__main__.Msa object at 0x0000021328763710>, <__main__.Msa object at 0x0000021328763780>, <__main__.Msa object at 0x00000213287637F0>, <__main__.Msa object at 0x0000021328763860>, <__main__.Msa object at 0x00000213287638D0>, <__main__.Msa object at 0x0000021328763940>, <__main__.Msa object at 0x00000213287639B0>, <__main__.Msa object at 0x0000021328763A20>, <__main__.Msa object at 0x0000021328763A90>, <__main__.Msa object at 0x0000021328763B00>, <__main__.Msa object at 0x0000021328763B70>, <__main__.Msa object at 0x0000021328763BE0>, <__main__.Msa object at 0x0000021328763C50>, <__main__.Msa object at 0x0000021328763CC0>, <__main__.Msa object at 0x0000021328763D30>, <__main__.Msa object at 0x0000021328763DA0>, <__main__.Msa object at 0x0000021328763E10>, <__main__.Msa object at 0x0000021328763E80>, <__main__.Msa object at 0x0000021328763EF0>, <__main__.Msa object at 0x0000021328763F60>, <__main__.Msa object at 0x0000021328763FD0>, <__main__.Msa object at 0x0000021328770080>, <__main__.Msa object at 0x00000213287700F0>, <__main__.Msa object at 0x0000021328770160>, <__main__.Msa object at 0x00000213287701D0>, <__main__.Msa object at 0x0000021328770240>, <__main__.Msa object at 0x00000213287702B0>, <__main__.Msa object at 0x0000021328770320>, <__main__.Msa object at 0x0000021328770390>, <__main__.Msa object at 0x0000021328770400>, <__main__.Msa object at 0x0000021328770470>, <__main__.Msa object at 0x00000213287704E0>, <__main__.Msa object at 0x0000021328770550>, <__main__.Msa object at 0x00000213287705C0>, <__main__.Msa object at 0x0000021328770630>, <__main__.Msa object at 0x00000213287706A0>, <__main__.Msa object at 0x0000021328770710>, <__main__.Msa object at 0x0000021328770780>, <__main__.Msa object at 0x00000213287707F0>, <__main__.Msa object at 0x0000021328770860>, <__main__.Msa object at 0x00000213287708D0>, <__main__.Msa object at 0x0000021328770940>, <__main__.Msa object at 0x00000213287709B0>, <__main__.Msa object at 0x0000021328770A20>, <__main__.Msa object at 0x0000021328770A90>, <__main__.Msa object at 0x0000021328770B00>, <__main__.Msa object at 0x0000021328770B70>, <__main__.Msa object at 0x0000021328770BE0>, <__main__.Msa object at 0x0000021328770C50>, <__main__.Msa object at 0x0000021328770CC0>, <__main__.Msa object at 0x0000021328770D30>, <__main__.Msa object at 0x0000021328770DA0>, <__main__.Msa object at 0x0000021328770E10>, <__main__.Msa object at 0x0000021328770E80>, <__main__.Msa object at 0x0000021328770EF0>, <__main__.Msa object at 0x0000021328770F60>, <__main__.Msa object at 0x0000021328770FD0>, <__main__.Msa object at 0x000002132877C080>, <__main__.Msa object at 0x000002132877C0F0>, <__main__.Msa object at 0x000002132877C160>, <__main__.Msa object at 0x000002132877C1D0>, <__main__.Msa object at 0x000002132877C240>, <__main__.Msa object at 0x000002132877C2B0>, <__main__.Msa object at 0x000002132877C320>, <__main__.Msa object at 0x000002132877C390>, <__main__.Msa object at 0x000002132877C400>, <__main__.Msa object at 0x000002132877C470>, <__main__.Msa object at 0x000002132877C4E0>, <__main__.Msa object at 0x000002132877C550>, <__main__.Msa object at 0x000002132877C5C0>, <__main__.Msa object at 0x000002132877C630>, <__main__.Msa object at 0x000002132877C6A0>, <__main__.Msa object at 0x000002132877C710>, <__main__.Msa object at 0x000002132877C780>, <__main__.Msa object at 0x000002132877C7F0>, <__main__.Msa object at 0x000002132877C860>, <__main__.Msa object at 0x000002132877C8D0>, <__main__.Msa object at 0x000002132877C940>, <__main__.Msa object at 0x000002132877C9B0>, <__main__.Msa object at 0x000002132877CA20>, <__main__.Msa object at 0x000002132877CA90>, <__main__.Msa object at 0x000002132877CB00>, <__main__.Msa object at 0x000002132877CB70>, <__main__.Msa object at 0x000002132877CBE0>, <__main__.Msa object at 0x000002132877CC50>, <__main__.Msa object at 0x000002132877CCC0>, <__main__.Msa object at 0x000002132877CD30>, <__main__.Msa object at 0x000002132877CDA0>, <__main__.Msa object at 0x000002132877CE10>, <__main__.Msa object at 0x000002132877CE80>, <__main__.Msa object at 0x000002132877CEF0>, <__main__.Msa object at 0x000002132877CF60>, <__main__.Msa object at 0x000002132877CFD0>, <__main__.Msa object at 0x0000021328788080>, <__main__.Msa object at 0x00000213287880F0>, <__main__.Msa object at 0x0000021328788160>, <__main__.Msa object at 0x00000213287881D0>, <__main__.Msa object at 0x0000021328788240>, <__main__.Msa object at 0x00000213287882B0>, <__main__.Msa object at 0x0000021328788320>, <__main__.Msa object at 0x0000021328788390>, <__main__.Msa object at 0x0000021328788400>, <__main__.Msa object at 0x0000021328788470>, <__main__.Msa object at 0x00000213287884E0>, <__main__.Msa object at 0x0000021328788550>, <__main__.Msa object at 0x00000213287885C0>, <__main__.Msa object at 0x0000021328788630>, <__main__.Msa object at 0x00000213287886A0>, <__main__.Msa object at 0x0000021328788710>, <__main__.Msa object at 0x0000021328788780>, <__main__.Msa object at 0x00000213287887F0>, <__main__.Msa object at 0x0000021328788860>, <__main__.Msa object at 0x00000213287888D0>, <__main__.Msa object at 0x0000021328788940>, <__main__.Msa object at 0x00000213287889B0>, <__main__.Msa object at 0x0000021328788A20>, <__main__.Msa object at 0x0000021328788A90>, <__main__.Msa object at 0x0000021328788B00>, <__main__.Msa object at 0x0000021328788B70>, <__main__.Msa object at 0x0000021328788BE0>, <__main__.Msa object at 0x0000021328788C50>, <__main__.Msa object at 0x0000021328788CC0>, <__main__.Msa object at 0x0000021328788D30>, <__main__.Msa object at 0x0000021328788DA0>, <__main__.Msa object at 0x0000021328788E10>, <__main__.Msa object at 0x0000021328788E80>, <__main__.Msa object at 0x0000021328788EF0>, <__main__.Msa object at 0x0000021328788F60>, <__main__.Msa object at 0x0000021328788FD0>, <__main__.Msa object at 0x0000021328794080>, <__main__.Msa object at 0x00000213287940F0>, <__main__.Msa object at 0x0000021328794160>, <__main__.Msa object at 0x00000213287941D0>, <__main__.Msa object at 0x0000021328794240>, <__main__.Msa object at 0x00000213287942B0>, <__main__.Msa object at 0x0000021328794320>, <__main__.Msa object at 0x0000021328794390>, <__main__.Msa object at 0x0000021328794400>, <__main__.Msa object at 0x0000021328794470>, <__main__.Msa object at 0x00000213287944E0>, <__main__.Msa object at 0x0000021328794550>, <__main__.Msa object at 0x00000213287945C0>, <__main__.Msa object at 0x0000021328794630>, <__main__.Msa object at 0x00000213287946A0>, <__main__.Msa object at 0x0000021328794710>, <__main__.Msa object at 0x0000021328794780>, <__main__.Msa object at 0x00000213287947F0>, <__main__.Msa object at 0x0000021328794860>, <__main__.Msa object at 0x00000213287948D0>, <__main__.Msa object at 0x0000021328794940>, <__main__.Msa object at 0x00000213287949B0>, <__main__.Msa object at 0x0000021328794A20>, <__main__.Msa object at 0x0000021328794A90>, <__main__.Msa object at 0x0000021328794B00>, <__main__.Msa object at 0x0000021328794B70>, <__main__.Msa object at 0x0000021328794BE0>, <__main__.Msa object at 0x0000021328794C50>, <__main__.Msa object at 0x0000021328794CC0>, <__main__.Msa object at 0x0000021328794D30>, <__main__.Msa object at 0x0000021328794DA0>, <__main__.Msa object at 0x0000021328794E10>, <__main__.Msa object at 0x0000021328794E80>, <__main__.Msa object at 0x0000021328794EF0>, <__main__.Msa object at 0x0000021328794F60>, <__main__.Msa object at 0x0000021328794FD0>, <__main__.Msa object at 0x00000213287A0080>, <__main__.Msa object at 0x00000213287A00F0>, <__main__.Msa object at 0x00000213287A0160>, <__main__.Msa object at 0x00000213287A01D0>, <__main__.Msa object at 0x00000213287A0240>, <__main__.Msa object at 0x00000213287A02B0>, <__main__.Msa object at 0x00000213287A0320>, <__main__.Msa object at 0x00000213287A0390>, <__main__.Msa object at 0x00000213287A0400>, <__main__.Msa object at 0x00000213287A0470>, <__main__.Msa object at 0x00000213287A04E0>, <__main__.Msa object at 0x00000213287A0550>, <__main__.Msa object at 0x00000213287A05C0>, <__main__.Msa object at 0x00000213287A0630>, <__main__.Msa object at 0x00000213287A06A0>, <__main__.Msa object at 0x00000213287A0710>, <__main__.Msa object at 0x00000213287A0780>, <__main__.Msa object at 0x00000213287A07F0>, <__main__.Msa object at 0x00000213287A0860>, <__main__.Msa object at 0x00000213287A08D0>, <__main__.Msa object at 0x00000213287A0940>, <__main__.Msa object at 0x00000213287A09B0>, <__main__.Msa object at 0x00000213287A0A20>, <__main__.Msa object at 0x00000213287A0A90>, <__main__.Msa object at 0x00000213287A0B00>, <__main__.Msa object at 0x00000213287A0B70>, <__main__.Msa object at 0x00000213287A0BE0>, <__main__.Msa object at 0x00000213287A0C50>, <__main__.Msa object at 0x00000213287A0CC0>, <__main__.Msa object at 0x00000213287A0D30>, <__main__.Msa object at 0x00000213287A0DA0>, <__main__.Msa object at 0x00000213287A0E10>, <__main__.Msa object at 0x00000213287A0E80>, <__main__.Msa object at 0x00000213287A0EF0>, <__main__.Msa object at 0x00000213287A0F60>, <__main__.Msa object at 0x00000213287A0FD0>, <__main__.Msa object at 0x00000213287AC080>, <__main__.Msa object at 0x00000213287AC0F0>, <__main__.Msa object at 0x00000213287AC160>, <__main__.Msa object at 0x00000213287AC1D0>, <__main__.Msa object at 0x00000213287AC240>, <__main__.Msa object at 0x00000213287AC2B0>, <__main__.Msa object at 0x00000213287AC320>, <__main__.Msa object at 0x00000213287AC390>, <__main__.Msa object at 0x00000213287AC400>, <__main__.Msa object at 0x00000213287AC470>, <__main__.Msa object at 0x00000213287AC4E0>, <__main__.Msa object at 0x00000213287AC550>, <__main__.Msa object at 0x00000213287AC5C0>, <__main__.Msa object at 0x00000213287AC630>, <__main__.Msa object at 0x00000213287AC6A0>, <__main__.Msa object at 0x00000213287AC710>, <__main__.Msa object at 0x00000213287AC780>, <__main__.Msa object at 0x00000213287AC7F0>, <__main__.Msa object at 0x00000213287AC860>, <__main__.Msa object at 0x00000213287AC8D0>, <__main__.Msa object at 0x00000213287AC940>, <__main__.Msa object at 0x00000213287AC9B0>, <__main__.Msa object at 0x00000213287ACA20>, <__main__.Msa object at 0x00000213287ACA90>, <__main__.Msa object at 0x00000213287ACB00>, <__main__.Msa object at 0x00000213287ACB70>, <__main__.Msa object at 0x00000213287ACBE0>, <__main__.Msa object at 0x00000213287ACC50>, <__main__.Msa object at 0x00000213287ACCC0>, <__main__.Msa object at 0x00000213287ACD30>, <__main__.Msa object at 0x00000213287ACDA0>, <__main__.Msa object at 0x00000213287ACE10>, <__main__.Msa object at 0x00000213287ACE80>, <__main__.Msa object at 0x00000213287ACEF0>, <__main__.Msa object at 0x00000213287ACF60>, <__main__.Msa object at 0x00000213287ACFD0>, <__main__.Msa object at 0x00000213287B8080>, <__main__.Msa object at 0x00000213287B80F0>, <__main__.Msa object at 0x00000213287B8160>, <__main__.Msa object at 0x00000213287B81D0>, <__main__.Msa object at 0x00000213287B8240>, <__main__.Msa object at 0x00000213287B82B0>, <__main__.Msa object at 0x00000213287B8320>, <__main__.Msa object at 0x00000213287B8390>, <__main__.Msa object at 0x00000213287B8400>, <__main__.Msa object at 0x00000213287B8470>, <__main__.Msa object at 0x00000213287B84E0>, <__main__.Msa object at 0x00000213287B8550>, <__main__.Msa object at 0x00000213287B85C0>, <__main__.Msa object at 0x00000213287B8630>, <__main__.Msa object at 0x00000213287B86A0>, <__main__.Msa object at 0x00000213287B8710>, <__main__.Msa object at 0x00000213287B8780>, <__main__.Msa object at 0x00000213287B87F0>, <__main__.Msa object at 0x00000213287B8860>, <__main__.Msa object at 0x00000213287B88D0>, <__main__.Msa object at 0x00000213287B8940>, <__main__.Msa object at 0x00000213287B89B0>, <__main__.Msa object at 0x00000213287B8A20>, <__main__.Msa object at 0x00000213287B8A90>, <__main__.Msa object at 0x00000213287B8B00>, <__main__.Msa object at 0x00000213287B8B70>, <__main__.Msa object at 0x00000213287B8BE0>, <__main__.Msa object at 0x00000213287B8C50>, <__main__.Msa object at 0x00000213287B8CC0>, <__main__.Msa object at 0x00000213287B8D30>, <__main__.Msa object at 0x00000213287B8DA0>, <__main__.Msa object at 0x00000213287B8E10>, <__main__.Msa object at 0x00000213287B8E80>, <__main__.Msa object at 0x00000213287B8EF0>, <__main__.Msa object at 0x00000213287B8F60>, <__main__.Msa object at 0x00000213287B8FD0>, <__main__.Msa object at 0x00000213287C5080>, <__main__.Msa object at 0x00000213287C50F0>, <__main__.Msa object at 0x00000213287C5160>, <__main__.Msa object at 0x00000213287C51D0>, <__main__.Msa object at 0x00000213287C5240>, <__main__.Msa object at 0x00000213287C52B0>, <__main__.Msa object at 0x00000213287C5320>, <__main__.Msa object at 0x00000213287C5390>, <__main__.Msa object at 0x00000213287C5400>, <__main__.Msa object at 0x00000213287C5470>, <__main__.Msa object at 0x00000213287C54E0>, <__main__.Msa object at 0x00000213287C5550>, <__main__.Msa object at 0x00000213287C55C0>, <__main__.Msa object at 0x00000213287C5630>, <__main__.Msa object at 0x00000213287C56A0>, <__main__.Msa object at 0x00000213287C5710>, <__main__.Msa object at 0x00000213287C5780>, <__main__.Msa object at 0x00000213287C57F0>, <__main__.Msa object at 0x00000213287C5860>, <__main__.Msa object at 0x00000213287C58D0>, <__main__.Msa object at 0x00000213287C5940>, <__main__.Msa object at 0x00000213287C59B0>, <__main__.Msa object at 0x00000213287C5A20>, <__main__.Msa object at 0x00000213287C5A90>, <__main__.Msa object at 0x00000213287C5B00>, <__main__.Msa object at 0x00000213287C5B70>, <__main__.Msa object at 0x00000213287C5BE0>, <__main__.Msa object at 0x00000213287C5C50>, <__main__.Msa object at 0x00000213287C5CC0>, <__main__.Msa object at 0x00000213287C5D30>, <__main__.Msa object at 0x00000213287C5DA0>, <__main__.Msa object at 0x00000213287C5E10>, <__main__.Msa object at 0x00000213287C5E80>, <__main__.Msa object at 0x00000213287C5EF0>, <__main__.Msa object at 0x00000213287C5F60>, <__main__.Msa object at 0x00000213287C5FD0>, <__main__.Msa object at 0x00000213287D1080>, <__main__.Msa object at 0x00000213287D10F0>, <__main__.Msa object at 0x00000213287D1160>, <__main__.Msa object at 0x00000213287D11D0>, <__main__.Msa object at 0x00000213287D1240>, <__main__.Msa object at 0x00000213287D12B0>, <__main__.Msa object at 0x00000213287D1320>, <__main__.Msa object at 0x00000213287D1390>, <__main__.Msa object at 0x00000213287D1400>, <__main__.Msa object at 0x00000213287D1470>, <__main__.Msa object at 0x00000213287D14E0>, <__main__.Msa object at 0x00000213287D1550>, <__main__.Msa object at 0x00000213287D15C0>, <__main__.Msa object at 0x00000213287D1630>, <__main__.Msa object at 0x00000213287D16A0>, <__main__.Msa object at 0x00000213287D1710>, <__main__.Msa object at 0x00000213287D1780>, <__main__.Msa object at 0x00000213287D17F0>, <__main__.Msa object at 0x00000213287D1860>, <__main__.Msa object at 0x00000213287D18D0>, <__main__.Msa object at 0x00000213287D1940>, <__main__.Msa object at 0x00000213287D19B0>, <__main__.Msa object at 0x00000213287D1A20>, <__main__.Msa object at 0x00000213287D1A90>, <__main__.Msa object at 0x00000213287D1B00>, <__main__.Msa object at 0x00000213287D1B70>, <__main__.Msa object at 0x00000213287D1BE0>, <__main__.Msa object at 0x00000213287D1C50>, <__main__.Msa object at 0x00000213287D1CC0>, <__main__.Msa object at 0x00000213287D1D30>, <__main__.Msa object at 0x00000213287D1DA0>, <__main__.Msa object at 0x00000213287D1E10>, <__main__.Msa object at 0x00000213287D1E80>, <__main__.Msa object at 0x00000213287D1EF0>, <__main__.Msa object at 0x00000213287D1F60>, <__main__.Msa object at 0x00000213287D1FD0>, <__main__.Msa object at 0x00000213287DD080>, <__main__.Msa object at 0x00000213287DD0F0>, <__main__.Msa object at 0x00000213287DD160>, <__main__.Msa object at 0x00000213287DD1D0>, <__main__.Msa object at 0x00000213287DD240>, <__main__.Msa object at 0x00000213287DD2B0>, <__main__.Msa object at 0x00000213287DD320>, <__main__.Msa object at 0x00000213287DD390>, <__main__.Msa object at 0x00000213287DD400>, <__main__.Msa object at 0x00000213287DD470>, <__main__.Msa object at 0x00000213287DD4E0>, <__main__.Msa object at 0x00000213287DD550>, <__main__.Msa object at 0x00000213287DD5C0>, <__main__.Msa object at 0x00000213287DD630>, <__main__.Msa object at 0x00000213287DD6A0>, <__main__.Msa object at 0x00000213287DD710>, <__main__.Msa object at 0x00000213287DD780>, <__main__.Msa object at 0x00000213287DD7F0>, <__main__.Msa object at 0x00000213287DD860>, <__main__.Msa object at 0x00000213287DD8D0>, <__main__.Msa object at 0x00000213287DD940>, <__main__.Msa object at 0x00000213287DD9B0>, <__main__.Msa object at 0x00000213287DDA20>, <__main__.Msa object at 0x00000213287DDA90>, <__main__.Msa object at 0x00000213287DDB00>, <__main__.Msa object at 0x00000213287DDB70>, <__main__.Msa object at 0x00000213287DDBE0>, <__main__.Msa object at 0x00000213287DDC50>, <__main__.Msa object at 0x00000213287DDCC0>, <__main__.Msa object at 0x00000213287DDD30>, <__main__.Msa object at 0x00000213287DDDA0>, <__main__.Msa object at 0x00000213287DDE10>, <__main__.Msa object at 0x00000213287DDE80>, <__main__.Msa object at 0x00000213287DDEF0>, <__main__.Msa object at 0x00000213287DDF60>, <__main__.Msa object at 0x00000213287DDFD0>, <__main__.Msa object at 0x00000213287E8080>, <__main__.Msa object at 0x00000213287E80F0>, <__main__.Msa object at 0x00000213287E8160>, <__main__.Msa object at 0x00000213287E81D0>, <__main__.Msa object at 0x00000213287E8240>, <__main__.Msa object at 0x00000213287E82B0>, <__main__.Msa object at 0x00000213287E8320>, <__main__.Msa object at 0x00000213287E8390>, <__main__.Msa object at 0x00000213287E8400>, <__main__.Msa object at 0x00000213287E8470>, <__main__.Msa object at 0x00000213287E84E0>, <__main__.Msa object at 0x00000213287E8550>, <__main__.Msa object at 0x00000213287E85C0>, <__main__.Msa object at 0x00000213287E8630>, <__main__.Msa object at 0x00000213287E86A0>, <__main__.Msa object at 0x00000213287E8710>, <__main__.Msa object at 0x00000213287E8780>, <__main__.Msa object at 0x00000213287E87F0>, <__main__.Msa object at 0x00000213287E8860>, <__main__.Msa object at 0x00000213287E88D0>, <__main__.Msa object at 0x00000213287E8940>, <__main__.Msa object at 0x00000213287E89B0>, <__main__.Msa object at 0x00000213287E8A20>, <__main__.Msa object at 0x00000213287E8A90>, <__main__.Msa object at 0x00000213287E8B00>, <__main__.Msa object at 0x00000213287E8B70>, <__main__.Msa object at 0x00000213287E8BE0>, <__main__.Msa object at 0x00000213287E8C50>, <__main__.Msa object at 0x00000213287E8CC0>, <__main__.Msa object at 0x00000213287E8D30>, <__main__.Msa object at 0x00000213287E8DA0>, <__main__.Msa object at 0x00000213287E8E10>, <__main__.Msa object at 0x00000213287E8E80>, <__main__.Msa object at 0x00000213287E8EF0>, <__main__.Msa object at 0x00000213287E8F60>, <__main__.Msa object at 0x00000213287E8FD0>, <__main__.Msa object at 0x00000213287F4080>, <__main__.Msa object at 0x00000213287F40F0>, <__main__.Msa object at 0x00000213287F4160>, <__main__.Msa object at 0x00000213287F41D0>, <__main__.Msa object at 0x00000213287F4240>, <__main__.Msa object at 0x00000213287F42B0>, <__main__.Msa object at 0x00000213287F4320>, <__main__.Msa object at 0x00000213287F4390>, <__main__.Msa object at 0x00000213287F4400>, <__main__.Msa object at 0x00000213287F4470>, <__main__.Msa object at 0x00000213287F44E0>, <__main__.Msa object at 0x00000213287F4550>, <__main__.Msa object at 0x00000213287F45C0>, <__main__.Msa object at 0x00000213287F4630>, <__main__.Msa object at 0x00000213287F46A0>, <__main__.Msa object at 0x00000213287F4710>, <__main__.Msa object at 0x00000213287F4780>, <__main__.Msa object at 0x00000213287F47F0>, <__main__.Msa object at 0x00000213287F4860>, <__main__.Msa object at 0x00000213287F48D0>, <__main__.Msa object at 0x00000213287F4940>, <__main__.Msa object at 0x00000213287F49B0>, <__main__.Msa object at 0x00000213287F4A20>, <__main__.Msa object at 0x00000213287F4A90>, <__main__.Msa object at 0x00000213287F4B00>, <__main__.Msa object at 0x00000213287F4B70>, <__main__.Msa object at 0x00000213287F4BE0>, <__main__.Msa object at 0x00000213287F4C50>, <__main__.Msa object at 0x00000213287F4CC0>, <__main__.Msa object at 0x00000213287F4D30>, <__main__.Msa object at 0x00000213287F4DA0>, <__main__.Msa object at 0x00000213287F4E10>, <__main__.Msa object at 0x00000213287F4E80>, <__main__.Msa object at 0x00000213287F4EF0>, <__main__.Msa object at 0x00000213287F4F60>, <__main__.Msa object at 0x00000213287F4FD0>, <__main__.Msa object at 0x0000021328800080>, <__main__.Msa object at 0x00000213288000F0>, <__main__.Msa object at 0x0000021328800160>, <__main__.Msa object at 0x00000213288001D0>, <__main__.Msa object at 0x0000021328800240>, <__main__.Msa object at 0x00000213288002B0>, <__main__.Msa object at 0x0000021328800320>, <__main__.Msa object at 0x0000021328800390>, <__main__.Msa object at 0x0000021328800400>, <__main__.Msa object at 0x0000021328800470>, <__main__.Msa object at 0x00000213288004E0>, <__main__.Msa object at 0x0000021328800550>, <__main__.Msa object at 0x00000213288005C0>, <__main__.Msa object at 0x0000021328800630>, <__main__.Msa object at 0x00000213288006A0>, <__main__.Msa object at 0x0000021328800710>, <__main__.Msa object at 0x0000021328800780>, <__main__.Msa object at 0x00000213288007F0>, <__main__.Msa object at 0x0000021328800860>, <__main__.Msa object at 0x00000213288008D0>, <__main__.Msa object at 0x0000021328800940>, <__main__.Msa object at 0x00000213288009B0>, <__main__.Msa object at 0x0000021328800A20>, <__main__.Msa object at 0x0000021328800A90>, <__main__.Msa object at 0x0000021328800B00>, <__main__.Msa object at 0x0000021328800B70>, <__main__.Msa object at 0x0000021328800BE0>, <__main__.Msa object at 0x0000021328800C50>, <__main__.Msa object at 0x0000021328800CC0>, <__main__.Msa object at 0x0000021328800D30>, <__main__.Msa object at 0x0000021328800DA0>, <__main__.Msa object at 0x0000021328800E10>, <__main__.Msa object at 0x0000021328800E80>, <__main__.Msa object at 0x0000021328800EF0>, <__main__.Msa object at 0x0000021328800F60>, <__main__.Msa object at 0x0000021328800FD0>, <__main__.Msa object at 0x000002132880C080>, <__main__.Msa object at 0x000002132880C0F0>, <__main__.Msa object at 0x000002132880C160>, <__main__.Msa object at 0x000002132880C1D0>, <__main__.Msa object at 0x000002132880C240>, <__main__.Msa object at 0x000002132880C2B0>, <__main__.Msa object at 0x000002132880C320>, <__main__.Msa object at 0x000002132880C390>, <__main__.Msa object at 0x000002132880C400>, <__main__.Msa object at 0x000002132880C470>, <__main__.Msa object at 0x000002132880C4E0>, <__main__.Msa object at 0x000002132880C550>, <__main__.Msa object at 0x000002132880C5C0>, <__main__.Msa object at 0x000002132880C630>, <__main__.Msa object at 0x000002132880C6A0>, <__main__.Msa object at 0x000002132880C710>, <__main__.Msa object at 0x000002132880C780>, <__main__.Msa object at 0x000002132880C7F0>, <__main__.Msa object at 0x000002132880C860>, <__main__.Msa object at 0x000002132880C8D0>, <__main__.Msa object at 0x000002132880C940>, <__main__.Msa object at 0x000002132880C9B0>, <__main__.Msa object at 0x000002132880CA20>, <__main__.Msa object at 0x000002132880CA90>, <__main__.Msa object at 0x000002132880CB00>, <__main__.Msa object at 0x000002132880CB70>, <__main__.Msa object at 0x000002132880CBE0>, <__main__.Msa object at 0x000002132880CC50>, <__main__.Msa object at 0x000002132880CCC0>, <__main__.Msa object at 0x000002132880CD30>, <__main__.Msa object at 0x000002132880CDA0>, <__main__.Msa object at 0x000002132880CE10>, <__main__.Msa object at 0x000002132880CE80>, <__main__.Msa object at 0x000002132880CEF0>, <__main__.Msa object at 0x000002132880CF60>, <__main__.Msa object at 0x000002132880CFD0>, <__main__.Msa object at 0x0000021328818080>, <__main__.Msa object at 0x00000213288180F0>, <__main__.Msa object at 0x0000021328818160>, <__main__.Msa object at 0x00000213288181D0>, <__main__.Msa object at 0x0000021328818240>, <__main__.Msa object at 0x00000213288182B0>, <__main__.Msa object at 0x0000021328818320>, <__main__.Msa object at 0x0000021328818390>, <__main__.Msa object at 0x0000021328818400>, <__main__.Msa object at 0x0000021328818470>, <__main__.Msa object at 0x00000213288184E0>, <__main__.Msa object at 0x0000021328818550>, <__main__.Msa object at 0x00000213288185C0>, <__main__.Msa object at 0x0000021328818630>, <__main__.Msa object at 0x00000213288186A0>, <__main__.Msa object at 0x0000021328818710>, <__main__.Msa object at 0x0000021328818780>, <__main__.Msa object at 0x00000213288187F0>, <__main__.Msa object at 0x0000021328818860>, <__main__.Msa object at 0x00000213288188D0>, <__main__.Msa object at 0x0000021328818940>, <__main__.Msa object at 0x00000213288189B0>, <__main__.Msa object at 0x0000021328818A20>, <__main__.Msa object at 0x0000021328818A90>, <__main__.Msa object at 0x0000021328818B00>, <__main__.Msa object at 0x0000021328818B70>, <__main__.Msa object at 0x0000021328818BE0>, <__main__.Msa object at 0x0000021328818C50>, <__main__.Msa object at 0x0000021328818CC0>, <__main__.Msa object at 0x0000021328818D30>, <__main__.Msa object at 0x0000021328818DA0>, <__main__.Msa object at 0x0000021328818E10>, <__main__.Msa object at 0x0000021328818E80>, <__main__.Msa object at 0x0000021328818EF0>, <__main__.Msa object at 0x0000021328818F60>, <__main__.Msa object at 0x0000021328818FD0>, <__main__.Msa object at 0x0000021328826080>, <__main__.Msa object at 0x00000213288260F0>, <__main__.Msa object at 0x0000021328826160>, <__main__.Msa object at 0x00000213288261D0>, <__main__.Msa object at 0x0000021328826240>, <__main__.Msa object at 0x00000213288262B0>, <__main__.Msa object at 0x0000021328826320>, <__main__.Msa object at 0x0000021328826390>, <__main__.Msa object at 0x0000021328826400>, <__main__.Msa object at 0x0000021328826470>, <__main__.Msa object at 0x00000213288264E0>, <__main__.Msa object at 0x0000021328826550>, <__main__.Msa object at 0x00000213288265C0>, <__main__.Msa object at 0x0000021328826630>, <__main__.Msa object at 0x00000213288266A0>, <__main__.Msa object at 0x0000021328826710>, <__main__.Msa object at 0x0000021328826780>, <__main__.Msa object at 0x00000213288267F0>, <__main__.Msa object at 0x0000021328826860>, <__main__.Msa object at 0x00000213288268D0>, <__main__.Msa object at 0x0000021328826940>, <__main__.Msa object at 0x00000213288269B0>, <__main__.Msa object at 0x0000021328826A20>, <__main__.Msa object at 0x0000021328826A90>, <__main__.Msa object at 0x0000021328826B00>, <__main__.Msa object at 0x0000021328826B70>, <__main__.Msa object at 0x0000021328826BE0>, <__main__.Msa object at 0x0000021328826C50>, <__main__.Msa object at 0x0000021328826CC0>, <__main__.Msa object at 0x0000021328826D30>, <__main__.Msa object at 0x0000021328826DA0>, <__main__.Msa object at 0x0000021328826E10>, <__main__.Msa object at 0x0000021328826E80>, <__main__.Msa object at 0x0000021328826EF0>, <__main__.Msa object at 0x0000021328826F60>, <__main__.Msa object at 0x0000021328826FD0>, <__main__.Msa object at 0x0000021328830080>, <__main__.Msa object at 0x00000213288300F0>, <__main__.Msa object at 0x0000021328830160>, <__main__.Msa object at 0x00000213288301D0>, <__main__.Msa object at 0x0000021328830240>, <__main__.Msa object at 0x00000213288302B0>, <__main__.Msa object at 0x0000021328830320>, <__main__.Msa object at 0x0000021328830390>, <__main__.Msa object at 0x0000021328830400>, <__main__.Msa object at 0x0000021328830470>, <__main__.Msa object at 0x00000213288304E0>, <__main__.Msa object at 0x0000021328830550>, <__main__.Msa object at 0x00000213288305C0>, <__main__.Msa object at 0x0000021328830630>, <__main__.Msa object at 0x00000213288306A0>, <__main__.Msa object at 0x0000021328830710>, <__main__.Msa object at 0x0000021328830780>, <__main__.Msa object at 0x00000213288307F0>, <__main__.Msa object at 0x0000021328830860>, <__main__.Msa object at 0x00000213288308D0>, <__main__.Msa object at 0x0000021328830940>, <__main__.Msa object at 0x00000213288309B0>, <__main__.Msa object at 0x0000021328830A20>, <__main__.Msa object at 0x0000021328830A90>, <__main__.Msa object at 0x0000021328830B00>, <__main__.Msa object at 0x0000021328830B70>, <__main__.Msa object at 0x0000021328830BE0>, <__main__.Msa object at 0x0000021328830C50>, <__main__.Msa object at 0x0000021328830CC0>, <__main__.Msa object at 0x0000021328830D30>, <__main__.Msa object at 0x0000021328830DA0>, <__main__.Msa object at 0x0000021328830E10>, <__main__.Msa object at 0x0000021328830E80>, <__main__.Msa object at 0x0000021328830EF0>, <__main__.Msa object at 0x0000021328830F60>, <__main__.Msa object at 0x0000021328830FD0>, <__main__.Msa object at 0x000002132883D080>, <__main__.Msa object at 0x000002132883D0F0>, <__main__.Msa object at 0x000002132883D160>, <__main__.Msa object at 0x000002132883D1D0>, <__main__.Msa object at 0x000002132883D240>, <__main__.Msa object at 0x000002132883D2B0>, <__main__.Msa object at 0x000002132883D320>, <__main__.Msa object at 0x000002132883D390>, <__main__.Msa object at 0x000002132883D400>, <__main__.Msa object at 0x000002132883D470>, <__main__.Msa object at 0x000002132883D4E0>, <__main__.Msa object at 0x000002132883D550>, <__main__.Msa object at 0x000002132883D5C0>, <__main__.Msa object at 0x000002132883D630>, <__main__.Msa object at 0x000002132883D6A0>, <__main__.Msa object at 0x000002132883D710>, <__main__.Msa object at 0x000002132883D780>, <__main__.Msa object at 0x000002132883D7F0>, <__main__.Msa object at 0x000002132883D860>, <__main__.Msa object at 0x000002132883D8D0>, <__main__.Msa object at 0x000002132883D940>, <__main__.Msa object at 0x000002132883D9B0>, <__main__.Msa object at 0x000002132883DA20>, <__main__.Msa object at 0x000002132883DA90>, <__main__.Msa object at 0x000002132883DB00>, <__main__.Msa object at 0x000002132883DB70>, <__main__.Msa object at 0x000002132883DBE0>, <__main__.Msa object at 0x000002132883DC50>, <__main__.Msa object at 0x000002132883DCC0>, <__main__.Msa object at 0x000002132883DD30>, <__main__.Msa object at 0x000002132883DDA0>, <__main__.Msa object at 0x000002132883DE10>, <__main__.Msa object at 0x000002132883DE80>, <__main__.Msa object at 0x000002132883DEF0>, <__main__.Msa object at 0x000002132883DF60>, <__main__.Msa object at 0x000002132883DFD0>, <__main__.Msa object at 0x0000021328848080>, <__main__.Msa object at 0x00000213288480F0>, <__main__.Msa object at 0x0000021328848160>, <__main__.Msa object at 0x00000213288481D0>, <__main__.Msa object at 0x0000021328848240>, <__main__.Msa object at 0x00000213288482B0>, <__main__.Msa object at 0x0000021328848320>, <__main__.Msa object at 0x0000021328848390>, <__main__.Msa object at 0x0000021328848400>, <__main__.Msa object at 0x0000021328848470>, <__main__.Msa object at 0x00000213288484E0>, <__main__.Msa object at 0x0000021328848550>, <__main__.Msa object at 0x00000213288485C0>, <__main__.Msa object at 0x0000021328848630>, <__main__.Msa object at 0x00000213288486A0>, <__main__.Msa object at 0x0000021328848710>, <__main__.Msa object at 0x0000021328848780>, <__main__.Msa object at 0x00000213288487F0>, <__main__.Msa object at 0x0000021328848860>, <__main__.Msa object at 0x00000213288488D0>, <__main__.Msa object at 0x0000021328848940>, <__main__.Msa object at 0x00000213288489B0>, <__main__.Msa object at 0x0000021328848A20>, <__main__.Msa object at 0x0000021328848A90>, <__main__.Msa object at 0x0000021328848B00>, <__main__.Msa object at 0x0000021328848B70>, <__main__.Msa object at 0x0000021328848BE0>, <__main__.Msa object at 0x0000021328848C50>, <__main__.Msa object at 0x0000021328848CC0>, <__main__.Msa object at 0x0000021328848D30>, <__main__.Msa object at 0x0000021328848DA0>, <__main__.Msa object at 0x0000021328848E10>, <__main__.Msa object at 0x0000021328848E80>, <__main__.Msa object at 0x0000021328848EF0>, <__main__.Msa object at 0x0000021328848F60>, <__main__.Msa object at 0x0000021328848FD0>, <__main__.Msa object at 0x0000021328855080>, <__main__.Msa object at 0x00000213288550F0>, <__main__.Msa object at 0x0000021328855160>, <__main__.Msa object at 0x00000213288551D0>, <__main__.Msa object at 0x0000021328855240>, <__main__.Msa object at 0x00000213288552B0>, <__main__.Msa object at 0x0000021328855320>, <__main__.Msa object at 0x0000021328855390>, <__main__.Msa object at 0x0000021328855400>, <__main__.Msa object at 0x0000021328855470>, <__main__.Msa object at 0x00000213288554E0>, <__main__.Msa object at 0x0000021328855550>, <__main__.Msa object at 0x00000213288555C0>, <__main__.Msa object at 0x0000021328855630>, <__main__.Msa object at 0x00000213288556A0>, <__main__.Msa object at 0x0000021328855710>, <__main__.Msa object at 0x0000021328855780>, <__main__.Msa object at 0x00000213288557F0>, <__main__.Msa object at 0x0000021328855860>, <__main__.Msa object at 0x00000213288558D0>, <__main__.Msa object at 0x0000021328855940>, <__main__.Msa object at 0x00000213288559B0>, <__main__.Msa object at 0x0000021328855A20>, <__main__.Msa object at 0x0000021328855A90>, <__main__.Msa object at 0x0000021328855B00>, <__main__.Msa object at 0x0000021328855B70>, <__main__.Msa object at 0x0000021328855BE0>, <__main__.Msa object at 0x0000021328855C50>, <__main__.Msa object at 0x0000021328855CC0>, <__main__.Msa object at 0x0000021328855D30>, <__main__.Msa object at 0x0000021328855DA0>, <__main__.Msa object at 0x0000021328855E10>, <__main__.Msa object at 0x0000021328855E80>, <__main__.Msa object at 0x0000021328855EF0>, <__main__.Msa object at 0x0000021328855F60>, <__main__.Msa object at 0x0000021328855FD0>, <__main__.Msa object at 0x0000021328861080>, <__main__.Msa object at 0x00000213288610F0>, <__main__.Msa object at 0x0000021328861160>, <__main__.Msa object at 0x00000213288611D0>, <__main__.Msa object at 0x0000021328861240>, <__main__.Msa object at 0x00000213288612B0>, <__main__.Msa object at 0x0000021328861320>, <__main__.Msa object at 0x0000021328861390>, <__main__.Msa object at 0x0000021328861400>, <__main__.Msa object at 0x0000021328861470>, <__main__.Msa object at 0x00000213288614E0>, <__main__.Msa object at 0x0000021328861550>, <__main__.Msa object at 0x00000213288615C0>, <__main__.Msa object at 0x0000021328861630>, <__main__.Msa object at 0x00000213288616A0>, <__main__.Msa object at 0x0000021328861710>, <__main__.Msa object at 0x0000021328861780>, <__main__.Msa object at 0x00000213288617F0>, <__main__.Msa object at 0x0000021328861860>, <__main__.Msa object at 0x00000213288618D0>, <__main__.Msa object at 0x0000021328861940>, <__main__.Msa object at 0x00000213288619B0>, <__main__.Msa object at 0x0000021328861A20>, <__main__.Msa object at 0x0000021328861A90>, <__main__.Msa object at 0x0000021328861B00>, <__main__.Msa object at 0x0000021328861B70>, <__main__.Msa object at 0x0000021328861BE0>, <__main__.Msa object at 0x0000021328861C50>, <__main__.Msa object at 0x0000021328861CC0>, <__main__.Msa object at 0x0000021328861D30>, <__main__.Msa object at 0x0000021328861DA0>, <__main__.Msa object at 0x0000021328861E10>, <__main__.Msa object at 0x0000021328861E80>, <__main__.Msa object at 0x0000021328861EF0>, <__main__.Msa object at 0x0000021328861F60>, <__main__.Msa object at 0x0000021328861FD0>, <__main__.Msa object at 0x000002132886D080>, <__main__.Msa object at 0x000002132886D0F0>, <__main__.Msa object at 0x000002132886D160>, <__main__.Msa object at 0x000002132886D1D0>, <__main__.Msa object at 0x000002132886D240>, <__main__.Msa object at 0x000002132886D2B0>, <__main__.Msa object at 0x000002132886D320>, <__main__.Msa object at 0x000002132886D390>, <__main__.Msa object at 0x000002132886D400>, <__main__.Msa object at 0x000002132886D470>, <__main__.Msa object at 0x000002132886D4E0>, <__main__.Msa object at 0x000002132886D550>, <__main__.Msa object at 0x000002132886D5C0>, <__main__.Msa object at 0x000002132886D630>, <__main__.Msa object at 0x000002132886D6A0>, <__main__.Msa object at 0x000002132886D710>, <__main__.Msa object at 0x000002132886D780>, <__main__.Msa object at 0x000002132886D7F0>, <__main__.Msa object at 0x000002132886D860>, <__main__.Msa object at 0x000002132886D8D0>, <__main__.Msa object at 0x000002132886D940>, <__main__.Msa object at 0x000002132886D9B0>, <__main__.Msa object at 0x000002132886DA20>, <__main__.Msa object at 0x000002132886DA90>, <__main__.Msa object at 0x000002132886DB00>, <__main__.Msa object at 0x000002132886DB70>, <__main__.Msa object at 0x000002132886DBE0>, <__main__.Msa object at 0x000002132886DC50>, <__main__.Msa object at 0x000002132886DCC0>, <__main__.Msa object at 0x000002132886DD30>, <__main__.Msa object at 0x000002132886DDA0>, <__main__.Msa object at 0x000002132886DE10>, <__main__.Msa object at 0x000002132886DE80>, <__main__.Msa object at 0x000002132886DEF0>, <__main__.Msa object at 0x000002132886DF60>, <__main__.Msa object at 0x000002132886DFD0>, <__main__.Msa object at 0x000002132887B080>, <__main__.Msa object at 0x000002132887B0F0>, <__main__.Msa object at 0x000002132887B160>, <__main__.Msa object at 0x000002132887B1D0>, <__main__.Msa object at 0x000002132887B240>, <__main__.Msa object at 0x000002132887B2B0>, <__main__.Msa object at 0x000002132887B320>, <__main__.Msa object at 0x000002132887B390>, <__main__.Msa object at 0x000002132887B400>, <__main__.Msa object at 0x000002132887B470>, <__main__.Msa object at 0x000002132887B4E0>, <__main__.Msa object at 0x000002132887B550>, <__main__.Msa object at 0x000002132887B5C0>, <__main__.Msa object at 0x000002132887B630>, <__main__.Msa object at 0x000002132887B6A0>, <__main__.Msa object at 0x000002132887B710>, <__main__.Msa object at 0x000002132887B780>, <__main__.Msa object at 0x000002132887B7F0>, <__main__.Msa object at 0x000002132887B860>, <__main__.Msa object at 0x000002132887B8D0>, <__main__.Msa object at 0x000002132887B940>, <__main__.Msa object at 0x000002132887B9B0>, <__main__.Msa object at 0x000002132887BA20>, <__main__.Msa object at 0x000002132887BA90>, <__main__.Msa object at 0x000002132887BB00>, <__main__.Msa object at 0x000002132887BB70>, <__main__.Msa object at 0x000002132887BBE0>, <__main__.Msa object at 0x000002132887BC50>, <__main__.Msa object at 0x000002132887BCC0>, <__main__.Msa object at 0x000002132887BD30>, <__main__.Msa object at 0x000002132887BDA0>, <__main__.Msa object at 0x000002132887BE10>, <__main__.Msa object at 0x000002132887BE80>, <__main__.Msa object at 0x000002132887BEF0>, <__main__.Msa object at 0x000002132887BF60>, <__main__.Msa object at 0x000002132887BFD0>, <__main__.Msa object at 0x0000021328885080>, <__main__.Msa object at 0x00000213288850F0>, <__main__.Msa object at 0x0000021328885160>, <__main__.Msa object at 0x00000213288851D0>, <__main__.Msa object at 0x0000021328885240>, <__main__.Msa object at 0x00000213288852B0>, <__main__.Msa object at 0x0000021328885320>, <__main__.Msa object at 0x0000021328885390>, <__main__.Msa object at 0x0000021328885400>, <__main__.Msa object at 0x0000021328885470>, <__main__.Msa object at 0x00000213288854E0>, <__main__.Msa object at 0x0000021328885550>, <__main__.Msa object at 0x00000213288855C0>, <__main__.Msa object at 0x0000021328885630>, <__main__.Msa object at 0x00000213288856A0>, <__main__.Msa object at 0x0000021328885710>, <__main__.Msa object at 0x0000021328885780>, <__main__.Msa object at 0x00000213288857F0>, <__main__.Msa object at 0x0000021328885860>, <__main__.Msa object at 0x00000213288858D0>, <__main__.Msa object at 0x0000021328885940>, <__main__.Msa object at 0x00000213288859B0>, <__main__.Msa object at 0x0000021328885A20>, <__main__.Msa object at 0x0000021328885A90>, <__main__.Msa object at 0x0000021328885B00>, <__main__.Msa object at 0x0000021328885B70>, <__main__.Msa object at 0x0000021328885BE0>, <__main__.Msa object at 0x0000021328885C50>, <__main__.Msa object at 0x0000021328885CC0>, <__main__.Msa object at 0x0000021328885D30>, <__main__.Msa object at 0x0000021328885DA0>, <__main__.Msa object at 0x0000021328885E10>, <__main__.Msa object at 0x0000021328885E80>, <__main__.Msa object at 0x0000021328885EF0>, <__main__.Msa object at 0x0000021328885F60>, <__main__.Msa object at 0x0000021328885FD0>, <__main__.Msa object at 0x0000021328891080>, <__main__.Msa object at 0x00000213288910F0>, <__main__.Msa object at 0x0000021328891160>, <__main__.Msa object at 0x00000213288911D0>, <__main__.Msa object at 0x0000021328891240>, <__main__.Msa object at 0x00000213288912B0>, <__main__.Msa object at 0x0000021328891320>, <__main__.Msa object at 0x0000021328891390>, <__main__.Msa object at 0x0000021328891400>, <__main__.Msa object at 0x0000021328891470>, <__main__.Msa object at 0x00000213288914E0>, <__main__.Msa object at 0x0000021328891550>, <__main__.Msa object at 0x00000213288915C0>, <__main__.Msa object at 0x0000021328891630>, <__main__.Msa object at 0x00000213288916A0>, <__main__.Msa object at 0x0000021328891710>, <__main__.Msa object at 0x0000021328891780>, <__main__.Msa object at 0x00000213288917F0>, <__main__.Msa object at 0x0000021328891860>, <__main__.Msa object at 0x00000213288918D0>, <__main__.Msa object at 0x0000021328891940>, <__main__.Msa object at 0x00000213288919B0>, <__main__.Msa object at 0x0000021328891A20>, <__main__.Msa object at 0x0000021328891A90>, <__main__.Msa object at 0x0000021328891B00>, <__main__.Msa object at 0x0000021328891B70>, <__main__.Msa object at 0x0000021328891BE0>, <__main__.Msa object at 0x0000021328891C50>, <__main__.Msa object at 0x0000021328891CC0>, <__main__.Msa object at 0x0000021328891D30>, <__main__.Msa object at 0x0000021328891DA0>, <__main__.Msa object at 0x0000021328891E10>, <__main__.Msa object at 0x0000021328891E80>, <__main__.Msa object at 0x0000021328891EF0>, <__main__.Msa object at 0x0000021328891F60>, <__main__.Msa object at 0x0000021328891FD0>, <__main__.Msa object at 0x000002132889C080>, <__main__.Msa object at 0x000002132889C0F0>, <__main__.Msa object at 0x000002132889C160>, <__main__.Msa object at 0x000002132889C1D0>, <__main__.Msa object at 0x000002132889C240>, <__main__.Msa object at 0x000002132889C2B0>, <__main__.Msa object at 0x000002132889C320>, <__main__.Msa object at 0x000002132889C390>, <__main__.Msa object at 0x000002132889C400>, <__main__.Msa object at 0x000002132889C470>, <__main__.Msa object at 0x000002132889C4E0>, <__main__.Msa object at 0x000002132889C550>, <__main__.Msa object at 0x000002132889C5C0>, <__main__.Msa object at 0x000002132889C630>, <__main__.Msa object at 0x000002132889C6A0>, <__main__.Msa object at 0x000002132889C710>, <__main__.Msa object at 0x000002132889C780>, <__main__.Msa object at 0x000002132889C7F0>, <__main__.Msa object at 0x000002132889C860>, <__main__.Msa object at 0x000002132889C8D0>, <__main__.Msa object at 0x000002132889C940>, <__main__.Msa object at 0x000002132889C9B0>, <__main__.Msa object at 0x000002132889CA20>, <__main__.Msa object at 0x000002132889CA90>, <__main__.Msa object at 0x000002132889CB00>, <__main__.Msa object at 0x000002132889CB70>, <__main__.Msa object at 0x000002132889CBE0>, <__main__.Msa object at 0x000002132889CC50>, <__main__.Msa object at 0x000002132889CCC0>, <__main__.Msa object at 0x000002132889CD30>, <__main__.Msa object at 0x000002132889CDA0>, <__main__.Msa object at 0x000002132889CE10>, <__main__.Msa object at 0x000002132889CE80>, <__main__.Msa object at 0x000002132889CEF0>, <__main__.Msa object at 0x000002132889CF60>, <__main__.Msa object at 0x000002132889CFD0>, <__main__.Msa object at 0x00000213288A9080>, <__main__.Msa object at 0x00000213288A90F0>, <__main__.Msa object at 0x00000213288A9160>, <__main__.Msa object at 0x00000213288A91D0>, <__main__.Msa object at 0x00000213288A9240>, <__main__.Msa object at 0x00000213288A92B0>, <__main__.Msa object at 0x00000213288A9320>, <__main__.Msa object at 0x00000213288A9390>, <__main__.Msa object at 0x00000213288A9400>, <__main__.Msa object at 0x00000213288A9470>, <__main__.Msa object at 0x00000213288A94E0>, <__main__.Msa object at 0x00000213288A9550>, <__main__.Msa object at 0x00000213288A95C0>, <__main__.Msa object at 0x00000213288A9630>, <__main__.Msa object at 0x00000213288A96A0>, <__main__.Msa object at 0x00000213288A9710>, <__main__.Msa object at 0x00000213288A9780>, <__main__.Msa object at 0x00000213288A97F0>, <__main__.Msa object at 0x00000213288A9860>, <__main__.Msa object at 0x00000213288A98D0>, <__main__.Msa object at 0x00000213288A9940>, <__main__.Msa object at 0x00000213288A99B0>, <__main__.Msa object at 0x00000213288A9A20>, <__main__.Msa object at 0x00000213288A9A90>, <__main__.Msa object at 0x00000213288A9B00>, <__main__.Msa object at 0x00000213288A9B70>, <__main__.Msa object at 0x00000213288A9BE0>, <__main__.Msa object at 0x00000213288A9C50>, <__main__.Msa object at 0x00000213288A9CC0>, <__main__.Msa object at 0x00000213288A9D30>, <__main__.Msa object at 0x00000213288A9DA0>, <__main__.Msa object at 0x00000213288A9E10>, <__main__.Msa object at 0x00000213288A9E80>, <__main__.Msa object at 0x00000213288A9EF0>, <__main__.Msa object at 0x00000213288A9F60>, <__main__.Msa object at 0x00000213288A9FD0>, <__main__.Msa object at 0x00000213288B4080>, <__main__.Msa object at 0x00000213288B40F0>, <__main__.Msa object at 0x00000213288B4160>, <__main__.Msa object at 0x00000213288B41D0>, <__main__.Msa object at 0x00000213288B4240>, <__main__.Msa object at 0x00000213288B42B0>, <__main__.Msa object at 0x00000213288B4320>, <__main__.Msa object at 0x00000213288B4390>, <__main__.Msa object at 0x00000213288B4400>, <__main__.Msa object at 0x00000213288B4470>, <__main__.Msa object at 0x00000213288B44E0>, <__main__.Msa object at 0x00000213288B4550>, <__main__.Msa object at 0x00000213288B45C0>, <__main__.Msa object at 0x00000213288B4630>, <__main__.Msa object at 0x00000213288B46A0>, <__main__.Msa object at 0x00000213288B4710>, <__main__.Msa object at 0x00000213288B4780>, <__main__.Msa object at 0x00000213288B47F0>, <__main__.Msa object at 0x00000213288B4860>, <__main__.Msa object at 0x00000213288B48D0>, <__main__.Msa object at 0x00000213288B4940>, <__main__.Msa object at 0x00000213288B49B0>, <__main__.Msa object at 0x00000213288B4A20>, <__main__.Msa object at 0x00000213288B4A90>, <__main__.Msa object at 0x00000213288B4B00>, <__main__.Msa object at 0x00000213288B4B70>, <__main__.Msa object at 0x00000213288B4BE0>, <__main__.Msa object at 0x00000213288B4C50>, <__main__.Msa object at 0x00000213288B4CC0>, <__main__.Msa object at 0x00000213288B4D30>, <__main__.Msa object at 0x00000213288B4DA0>, <__main__.Msa object at 0x00000213288B4E10>, <__main__.Msa object at 0x00000213288B4E80>, <__main__.Msa object at 0x00000213288B4EF0>, <__main__.Msa object at 0x00000213288B4F60>, <__main__.Msa object at 0x00000213288B4FD0>, <__main__.Msa object at 0x00000213288C1080>, <__main__.Msa object at 0x00000213288C10F0>, <__main__.Msa object at 0x00000213288C1160>, <__main__.Msa object at 0x00000213288C11D0>, <__main__.Msa object at 0x00000213288C1240>, <__main__.Msa object at 0x00000213288C12B0>, <__main__.Msa object at 0x00000213288C1320>, <__main__.Msa object at 0x00000213288C1390>, <__main__.Msa object at 0x00000213288C1400>, <__main__.Msa object at 0x00000213288C1470>, <__main__.Msa object at 0x00000213288C14E0>, <__main__.Msa object at 0x00000213288C1550>, <__main__.Msa object at 0x00000213288C15C0>, <__main__.Msa object at 0x00000213288C1630>, <__main__.Msa object at 0x00000213288C16A0>, <__main__.Msa object at 0x00000213288C1710>, <__main__.Msa object at 0x00000213288C1780>, <__main__.Msa object at 0x00000213288C17F0>, <__main__.Msa object at 0x00000213288C1860>, <__main__.Msa object at 0x00000213288C18D0>, <__main__.Msa object at 0x00000213288C1940>, <__main__.Msa object at 0x00000213288C19B0>, <__main__.Msa object at 0x00000213288C1A20>, <__main__.Msa object at 0x00000213288C1A90>, <__main__.Msa object at 0x00000213288C1B00>, <__main__.Msa object at 0x00000213288C1B70>, <__main__.Msa object at 0x00000213288C1BE0>, <__main__.Msa object at 0x00000213288C1C50>, <__main__.Msa object at 0x00000213288C1CC0>, <__main__.Msa object at 0x00000213288C1D30>, <__main__.Msa object at 0x00000213288C1DA0>, <__main__.Msa object at 0x00000213288C1E10>, <__main__.Msa object at 0x00000213288C1E80>, <__main__.Msa object at 0x00000213288C1EF0>, <__main__.Msa object at 0x00000213288C1F60>, <__main__.Msa object at 0x00000213288C1FD0>, <__main__.Msa object at 0x00000213288CE080>, <__main__.Msa object at 0x00000213288CE0F0>, <__main__.Msa object at 0x00000213288CE160>, <__main__.Msa object at 0x00000213288CE1D0>, <__main__.Msa object at 0x00000213288CE240>, <__main__.Msa object at 0x00000213288CE2B0>, <__main__.Msa object at 0x00000213288CE320>, <__main__.Msa object at 0x00000213288CE390>, <__main__.Msa object at 0x00000213288CE400>, <__main__.Msa object at 0x00000213288CE470>, <__main__.Msa object at 0x00000213288CE4E0>, <__main__.Msa object at 0x00000213288CE550>, <__main__.Msa object at 0x00000213288CE5C0>, <__main__.Msa object at 0x00000213288CE630>, <__main__.Msa object at 0x00000213288CE6A0>, <__main__.Msa object at 0x00000213288CE710>, <__main__.Msa object at 0x00000213288CE780>, <__main__.Msa object at 0x00000213288CE7F0>, <__main__.Msa object at 0x00000213288CE860>, <__main__.Msa object at 0x00000213288CE8D0>, <__main__.Msa object at 0x00000213288CE940>, <__main__.Msa object at 0x00000213288CE9B0>, <__main__.Msa object at 0x00000213288CEA20>, <__main__.Msa object at 0x00000213288CEA90>, <__main__.Msa object at 0x00000213288CEB00>, <__main__.Msa object at 0x00000213288CEB70>, <__main__.Msa object at 0x00000213288CEBE0>, <__main__.Msa object at 0x00000213288CEC50>, <__main__.Msa object at 0x00000213288CECC0>, <__main__.Msa object at 0x00000213288CED30>, <__main__.Msa object at 0x00000213288CEDA0>, <__main__.Msa object at 0x00000213288CEE10>, <__main__.Msa object at 0x00000213288CEE80>, <__main__.Msa object at 0x00000213288CEEF0>, <__main__.Msa object at 0x00000213288CEF60>, <__main__.Msa object at 0x00000213288CEFD0>, <__main__.Msa object at 0x00000213288D9080>, <__main__.Msa object at 0x00000213288D90F0>, <__main__.Msa object at 0x00000213288D9160>, <__main__.Msa object at 0x00000213288D91D0>, <__main__.Msa object at 0x00000213288D9240>, <__main__.Msa object at 0x00000213288D92B0>, <__main__.Msa object at 0x00000213288D9320>, <__main__.Msa object at 0x00000213288D9390>, <__main__.Msa object at 0x00000213288D9400>, <__main__.Msa object at 0x00000213288D9470>, <__main__.Msa object at 0x00000213288D94E0>, <__main__.Msa object at 0x00000213288D9550>, <__main__.Msa object at 0x00000213288D95C0>, <__main__.Msa object at 0x00000213288D9630>, <__main__.Msa object at 0x00000213288D96A0>, <__main__.Msa object at 0x00000213288D9710>, <__main__.Msa object at 0x00000213288D9780>, <__main__.Msa object at 0x00000213288D97F0>, <__main__.Msa object at 0x00000213288D9860>, <__main__.Msa object at 0x00000213288D98D0>, <__main__.Msa object at 0x00000213288D9940>, <__main__.Msa object at 0x00000213288D99B0>, <__main__.Msa object at 0x00000213288D9A20>, <__main__.Msa object at 0x00000213288D9A90>, <__main__.Msa object at 0x00000213288D9B00>, <__main__.Msa object at 0x00000213288D9B70>, <__main__.Msa object at 0x00000213288D9BE0>, <__main__.Msa object at 0x00000213288D9C50>, <__main__.Msa object at 0x00000213288D9CC0>, <__main__.Msa object at 0x00000213288D9D30>, <__main__.Msa object at 0x00000213288D9DA0>, <__main__.Msa object at 0x00000213288D9E10>, <__main__.Msa object at 0x00000213288D9E80>, <__main__.Msa object at 0x00000213288D9EF0>, <__main__.Msa object at 0x00000213288D9F60>, <__main__.Msa object at 0x00000213288D9FD0>, <__main__.Msa object at 0x00000213288E5080>, <__main__.Msa object at 0x00000213288E50F0>, <__main__.Msa object at 0x00000213288E5160>, <__main__.Msa object at 0x00000213288E51D0>, <__main__.Msa object at 0x00000213288E5240>, <__main__.Msa object at 0x00000213288E52B0>, <__main__.Msa object at 0x00000213288E5320>, <__main__.Msa object at 0x00000213288E5390>, <__main__.Msa object at 0x00000213288E5400>, <__main__.Msa object at 0x00000213288E5470>, <__main__.Msa object at 0x00000213288E54E0>, <__main__.Msa object at 0x00000213288E5550>, <__main__.Msa object at 0x00000213288E55C0>, <__main__.Msa object at 0x00000213288E5630>, <__main__.Msa object at 0x00000213288E56A0>, <__main__.Msa object at 0x00000213288E5710>, <__main__.Msa object at 0x00000213288E5780>, <__main__.Msa object at 0x00000213288E57F0>, <__main__.Msa object at 0x00000213288E5860>, <__main__.Msa object at 0x00000213288E58D0>, <__main__.Msa object at 0x00000213288E5940>, <__main__.Msa object at 0x00000213288E59B0>, <__main__.Msa object at 0x00000213288E5A20>, <__main__.Msa object at 0x00000213288E5A90>, <__main__.Msa object at 0x00000213288E5B00>, <__main__.Msa object at 0x00000213288E5B70>, <__main__.Msa object at 0x00000213288E5BE0>, <__main__.Msa object at 0x00000213288E5C50>, <__main__.Msa object at 0x00000213288E5CC0>, <__main__.Msa object at 0x00000213288E5D30>, <__main__.Msa object at 0x00000213288E5DA0>, <__main__.Msa object at 0x00000213288E5E10>, <__main__.Msa object at 0x00000213288E5E80>, <__main__.Msa object at 0x00000213288E5EF0>, <__main__.Msa object at 0x00000213288E5F60>, <__main__.Msa object at 0x00000213288E5FD0>, <__main__.Msa object at 0x00000213288F1080>, <__main__.Msa object at 0x00000213288F10F0>, <__main__.Msa object at 0x00000213288F1160>, <__main__.Msa object at 0x00000213288F11D0>, <__main__.Msa object at 0x00000213288F1240>, <__main__.Msa object at 0x00000213288F12B0>, <__main__.Msa object at 0x00000213288F1320>, <__main__.Msa object at 0x00000213288F1390>, <__main__.Msa object at 0x00000213288F1400>, <__main__.Msa object at 0x00000213288F1470>, <__main__.Msa object at 0x00000213288F14E0>, <__main__.Msa object at 0x00000213288F1550>, <__main__.Msa object at 0x00000213288F15C0>, <__main__.Msa object at 0x00000213288F1630>, <__main__.Msa object at 0x00000213288F16A0>, <__main__.Msa object at 0x00000213288F1710>, <__main__.Msa object at 0x00000213288F1780>, <__main__.Msa object at 0x00000213288F17F0>, <__main__.Msa object at 0x00000213288F1860>, <__main__.Msa object at 0x00000213288F18D0>, <__main__.Msa object at 0x00000213288F1940>, <__main__.Msa object at 0x00000213288F19B0>, <__main__.Msa object at 0x00000213288F1A20>, <__main__.Msa object at 0x00000213288F1A90>, <__main__.Msa object at 0x00000213288F1B00>, <__main__.Msa object at 0x00000213288F1B70>, <__main__.Msa object at 0x00000213288F1BE0>, <__main__.Msa object at 0x00000213288F1C50>, <__main__.Msa object at 0x00000213288F1CC0>, <__main__.Msa object at 0x00000213288F1D30>, <__main__.Msa object at 0x00000213288F1DA0>, <__main__.Msa object at 0x00000213288F1E10>, <__main__.Msa object at 0x00000213288F1E80>, <__main__.Msa object at 0x00000213288F1EF0>, <__main__.Msa object at 0x00000213288F1F60>, <__main__.Msa object at 0x00000213288F1FD0>, <__main__.Msa object at 0x00000213288FE080>, <__main__.Msa object at 0x00000213288FE0F0>, <__main__.Msa object at 0x00000213288FE160>, <__main__.Msa object at 0x00000213288FE1D0>, <__main__.Msa object at 0x00000213288FE240>, <__main__.Msa object at 0x00000213288FE2B0>, <__main__.Msa object at 0x00000213288FE320>, <__main__.Msa object at 0x00000213288FE390>, <__main__.Msa object at 0x00000213288FE400>, <__main__.Msa object at 0x00000213288FE470>, <__main__.Msa object at 0x00000213288FE4E0>, <__main__.Msa object at 0x00000213288FE550>, <__main__.Msa object at 0x00000213288FE5C0>, <__main__.Msa object at 0x00000213288FE630>, <__main__.Msa object at 0x00000213288FE6A0>, <__main__.Msa object at 0x00000213288FE710>, <__main__.Msa object at 0x00000213288FE780>, <__main__.Msa object at 0x00000213288FE7F0>, <__main__.Msa object at 0x00000213288FE860>, <__main__.Msa object at 0x00000213288FE8D0>, <__main__.Msa object at 0x00000213288FE940>, <__main__.Msa object at 0x00000213288FE9B0>, <__main__.Msa object at 0x00000213288FEA20>, <__main__.Msa object at 0x00000213288FEA90>, <__main__.Msa object at 0x00000213288FEB00>, <__main__.Msa object at 0x00000213288FEB70>, <__main__.Msa object at 0x00000213288FEBE0>, <__main__.Msa object at 0x00000213288FEC50>, <__main__.Msa object at 0x00000213288FECC0>, <__main__.Msa object at 0x00000213288FED30>, <__main__.Msa object at 0x00000213288FEDA0>, <__main__.Msa object at 0x00000213288FEE10>, <__main__.Msa object at 0x00000213288FEE80>, <__main__.Msa object at 0x00000213288FEEF0>, <__main__.Msa object at 0x00000213288FEF60>, <__main__.Msa object at 0x00000213288FEFD0>, <__main__.Msa object at 0x0000021328909080>, <__main__.Msa object at 0x00000213289090F0>, <__main__.Msa object at 0x0000021328909160>, <__main__.Msa object at 0x00000213289091D0>, <__main__.Msa object at 0x0000021328909240>, <__main__.Msa object at 0x00000213289092B0>, <__main__.Msa object at 0x0000021328909320>])"
      ]
     },
     "execution_count": 12,
     "metadata": {},
     "output_type": "execute_result"
    }
   ],
   "source": [
    "session.new"
   ]
  },
  {
   "cell_type": "code",
   "execution_count": 13,
   "metadata": {},
   "outputs": [],
   "source": [
    "session.commit()"
   ]
  },
  {
   "cell_type": "code",
   "execution_count": null,
   "metadata": {},
   "outputs": [],
   "source": [
    "# session.rollback()"
   ]
  },
  {
   "cell_type": "code",
   "execution_count": 14,
   "metadata": {},
   "outputs": [
    {
     "data": {
      "text/html": [
       "<div>\n",
       "<style scoped>\n",
       "    .dataframe tbody tr th:only-of-type {\n",
       "        vertical-align: middle;\n",
       "    }\n",
       "\n",
       "    .dataframe tbody tr th {\n",
       "        vertical-align: top;\n",
       "    }\n",
       "\n",
       "    .dataframe thead th {\n",
       "        text-align: right;\n",
       "    }\n",
       "</style>\n",
       "<table border=\"1\" class=\"dataframe\">\n",
       "  <thead>\n",
       "    <tr style=\"text-align: right;\">\n",
       "      <th></th>\n",
       "      <th>state</th>\n",
       "      <th>number_per_capita</th>\n",
       "      <th>number_registered</th>\n",
       "    </tr>\n",
       "  </thead>\n",
       "  <tbody>\n",
       "    <tr>\n",
       "      <th>0</th>\n",
       "      <td>Wyoming</td>\n",
       "      <td>229.24</td>\n",
       "      <td>132,806</td>\n",
       "    </tr>\n",
       "    <tr>\n",
       "      <th>1</th>\n",
       "      <td>District of Columbia</td>\n",
       "      <td>68.05</td>\n",
       "      <td>47,228</td>\n",
       "    </tr>\n",
       "    <tr>\n",
       "      <th>2</th>\n",
       "      <td>New Hampshire</td>\n",
       "      <td>46.76</td>\n",
       "      <td>64,135</td>\n",
       "    </tr>\n",
       "    <tr>\n",
       "      <th>3</th>\n",
       "      <td>New Mexico</td>\n",
       "      <td>46.73</td>\n",
       "      <td>97,580</td>\n",
       "    </tr>\n",
       "    <tr>\n",
       "      <th>4</th>\n",
       "      <td>Virginia</td>\n",
       "      <td>36.34</td>\n",
       "      <td>307,822</td>\n",
       "    </tr>\n",
       "  </tbody>\n",
       "</table>\n",
       "</div>"
      ],
      "text/plain": [
       "                  state  number_per_capita number_registered\n",
       "0               Wyoming             229.24           132,806\n",
       "1  District of Columbia              68.05            47,228\n",
       "2         New Hampshire              46.76            64,135\n",
       "3            New Mexico              46.73            97,580\n",
       "4              Virginia              36.34           307,822"
      ]
     },
     "execution_count": 14,
     "metadata": {},
     "output_type": "execute_result"
    }
   ],
   "source": [
    "guns_df = pd.read_csv('../data/gun_ownership_clean.csv')\n",
    "guns_df.head()"
   ]
  },
  {
   "cell_type": "code",
   "execution_count": 15,
   "metadata": {},
   "outputs": [
    {
     "data": {
      "text/plain": [
       "state                 object\n",
       "number_per_capita    float64\n",
       "number_registered     object\n",
       "dtype: object"
      ]
     },
     "execution_count": 15,
     "metadata": {},
     "output_type": "execute_result"
    }
   ],
   "source": [
    "guns_df.dtypes"
   ]
  },
  {
   "cell_type": "code",
   "execution_count": 16,
   "metadata": {},
   "outputs": [
    {
     "data": {
      "text/plain": [
       "state                 object\n",
       "number_per_capita    float64\n",
       "number_registered      int32\n",
       "dtype: object"
      ]
     },
     "execution_count": 16,
     "metadata": {},
     "output_type": "execute_result"
    }
   ],
   "source": [
    "# Remove comma from number registered column\n",
    "guns_df['number_registered'] = guns_df['number_registered'].str.replace(',', '')\n",
    "\n",
    "#Change data type to integer\n",
    "guns_df['number_registered'] = guns_df['number_registered'].astype(int)\n",
    "\n",
    "guns_df.dtypes"
   ]
  },
  {
   "cell_type": "code",
   "execution_count": 17,
   "metadata": {},
   "outputs": [],
   "source": [
    "for index, name in guns_df.iterrows():\n",
    "    session.add(Guns(state=name['state'], number_per_capita=name['number_per_capita'], \\\n",
    "                   number_registered=name['number_registered']))"
   ]
  },
  {
   "cell_type": "code",
   "execution_count": 18,
   "metadata": {},
   "outputs": [],
   "source": [
    "session.commit()"
   ]
  },
  {
   "cell_type": "code",
   "execution_count": 19,
   "metadata": {},
   "outputs": [
    {
     "data": {
      "text/html": [
       "<div>\n",
       "<style scoped>\n",
       "    .dataframe tbody tr th:only-of-type {\n",
       "        vertical-align: middle;\n",
       "    }\n",
       "\n",
       "    .dataframe tbody tr th {\n",
       "        vertical-align: top;\n",
       "    }\n",
       "\n",
       "    .dataframe thead th {\n",
       "        text-align: right;\n",
       "    }\n",
       "</style>\n",
       "<table border=\"1\" class=\"dataframe\">\n",
       "  <thead>\n",
       "    <tr style=\"text-align: right;\">\n",
       "      <th></th>\n",
       "      <th>rank</th>\n",
       "      <th>state</th>\n",
       "      <th>poverty</th>\n",
       "    </tr>\n",
       "  </thead>\n",
       "  <tbody>\n",
       "    <tr>\n",
       "      <th>0</th>\n",
       "      <td>1</td>\n",
       "      <td>New Hampshire</td>\n",
       "      <td>7.3</td>\n",
       "    </tr>\n",
       "    <tr>\n",
       "      <th>1</th>\n",
       "      <td>2</td>\n",
       "      <td>Utah</td>\n",
       "      <td>8.9</td>\n",
       "    </tr>\n",
       "    <tr>\n",
       "      <th>2</th>\n",
       "      <td>3</td>\n",
       "      <td>Maryland</td>\n",
       "      <td>9.0</td>\n",
       "    </tr>\n",
       "    <tr>\n",
       "      <th>3</th>\n",
       "      <td>4</td>\n",
       "      <td>Minnesota</td>\n",
       "      <td>9.0</td>\n",
       "    </tr>\n",
       "    <tr>\n",
       "      <th>4</th>\n",
       "      <td>5</td>\n",
       "      <td>New Jersey</td>\n",
       "      <td>9.2</td>\n",
       "    </tr>\n",
       "  </tbody>\n",
       "</table>\n",
       "</div>"
      ],
      "text/plain": [
       "   rank          state  poverty\n",
       "0     1  New Hampshire      7.3\n",
       "1     2           Utah      8.9\n",
       "2     3       Maryland      9.0\n",
       "3     4      Minnesota      9.0\n",
       "4     5     New Jersey      9.2"
      ]
     },
     "execution_count": 19,
     "metadata": {},
     "output_type": "execute_result"
    }
   ],
   "source": [
    "poverty_df = pd.read_csv('../data/poverty_data_clean.csv')\n",
    "poverty_df.head()"
   ]
  },
  {
   "cell_type": "code",
   "execution_count": 20,
   "metadata": {},
   "outputs": [
    {
     "data": {
      "text/plain": [
       "rank         int64\n",
       "state       object\n",
       "poverty    float64\n",
       "dtype: object"
      ]
     },
     "execution_count": 20,
     "metadata": {},
     "output_type": "execute_result"
    }
   ],
   "source": [
    "poverty_df.dtypes"
   ]
  },
  {
   "cell_type": "code",
   "execution_count": 21,
   "metadata": {},
   "outputs": [],
   "source": [
    "for index, name in poverty_df.iterrows():\n",
    "    session.add(Poverty(rank=name['rank'], state=name['state'], poverty=name['poverty']))"
   ]
  },
  {
   "cell_type": "code",
   "execution_count": 22,
   "metadata": {},
   "outputs": [],
   "source": [
    "session.commit()"
   ]
  },
  {
   "cell_type": "code",
   "execution_count": 23,
   "metadata": {},
   "outputs": [
    {
     "data": {
      "text/html": [
       "<div>\n",
       "<style scoped>\n",
       "    .dataframe tbody tr th:only-of-type {\n",
       "        vertical-align: middle;\n",
       "    }\n",
       "\n",
       "    .dataframe tbody tr th {\n",
       "        vertical-align: top;\n",
       "    }\n",
       "\n",
       "    .dataframe thead th {\n",
       "        text-align: right;\n",
       "    }\n",
       "</style>\n",
       "<table border=\"1\" class=\"dataframe\">\n",
       "  <thead>\n",
       "    <tr style=\"text-align: right;\">\n",
       "      <th></th>\n",
       "      <th>state</th>\n",
       "      <th>result</th>\n",
       "    </tr>\n",
       "  </thead>\n",
       "  <tbody>\n",
       "    <tr>\n",
       "      <th>0</th>\n",
       "      <td>Alabama</td>\n",
       "      <td>blue</td>\n",
       "    </tr>\n",
       "    <tr>\n",
       "      <th>1</th>\n",
       "      <td>Alaska</td>\n",
       "      <td>red</td>\n",
       "    </tr>\n",
       "    <tr>\n",
       "      <th>2</th>\n",
       "      <td>Arizona</td>\n",
       "      <td>blue</td>\n",
       "    </tr>\n",
       "    <tr>\n",
       "      <th>3</th>\n",
       "      <td>Arkansas</td>\n",
       "      <td>red</td>\n",
       "    </tr>\n",
       "    <tr>\n",
       "      <th>4</th>\n",
       "      <td>California</td>\n",
       "      <td>red</td>\n",
       "    </tr>\n",
       "  </tbody>\n",
       "</table>\n",
       "</div>"
      ],
      "text/plain": [
       "        state result\n",
       "0     Alabama   blue\n",
       "1      Alaska    red\n",
       "2     Arizona   blue\n",
       "3    Arkansas    red\n",
       "4  California    red"
      ]
     },
     "execution_count": 23,
     "metadata": {},
     "output_type": "execute_result"
    }
   ],
   "source": [
    "election_df = pd.read_csv('../data/election_data_clean.csv')\n",
    "election_df.head()"
   ]
  },
  {
   "cell_type": "code",
   "execution_count": 24,
   "metadata": {},
   "outputs": [
    {
     "data": {
      "text/plain": [
       "state     object\n",
       "result    object\n",
       "dtype: object"
      ]
     },
     "execution_count": 24,
     "metadata": {},
     "output_type": "execute_result"
    }
   ],
   "source": [
    "election_df.dtypes"
   ]
  },
  {
   "cell_type": "code",
   "execution_count": 25,
   "metadata": {},
   "outputs": [],
   "source": [
    "for index, name in election_df.iterrows():\n",
    "    session.add(Election(state=name['state'], result=name['result']))"
   ]
  },
  {
   "cell_type": "code",
   "execution_count": 26,
   "metadata": {},
   "outputs": [],
   "source": [
    "session.commit()"
   ]
  },
  {
   "cell_type": "code",
   "execution_count": 27,
   "metadata": {},
   "outputs": [
    {
     "data": {
      "text/html": [
       "<div>\n",
       "<style scoped>\n",
       "    .dataframe tbody tr th:only-of-type {\n",
       "        vertical-align: middle;\n",
       "    }\n",
       "\n",
       "    .dataframe tbody tr th {\n",
       "        vertical-align: top;\n",
       "    }\n",
       "\n",
       "    .dataframe thead th {\n",
       "        text-align: right;\n",
       "    }\n",
       "</style>\n",
       "<table border=\"1\" class=\"dataframe\">\n",
       "  <thead>\n",
       "    <tr style=\"text-align: right;\">\n",
       "      <th></th>\n",
       "      <th>state</th>\n",
       "      <th>latitude</th>\n",
       "      <th>longitude</th>\n",
       "    </tr>\n",
       "  </thead>\n",
       "  <tbody>\n",
       "    <tr>\n",
       "      <th>0</th>\n",
       "      <td>Alaska</td>\n",
       "      <td>63.588753</td>\n",
       "      <td>-154.493062</td>\n",
       "    </tr>\n",
       "    <tr>\n",
       "      <th>1</th>\n",
       "      <td>Alabama</td>\n",
       "      <td>32.318231</td>\n",
       "      <td>-86.902298</td>\n",
       "    </tr>\n",
       "    <tr>\n",
       "      <th>2</th>\n",
       "      <td>Arkansas</td>\n",
       "      <td>35.201050</td>\n",
       "      <td>-91.831833</td>\n",
       "    </tr>\n",
       "    <tr>\n",
       "      <th>3</th>\n",
       "      <td>Arizona</td>\n",
       "      <td>34.048928</td>\n",
       "      <td>-111.093731</td>\n",
       "    </tr>\n",
       "    <tr>\n",
       "      <th>4</th>\n",
       "      <td>California</td>\n",
       "      <td>36.778261</td>\n",
       "      <td>-119.417932</td>\n",
       "    </tr>\n",
       "  </tbody>\n",
       "</table>\n",
       "</div>"
      ],
      "text/plain": [
       "        state   latitude   longitude\n",
       "0      Alaska  63.588753 -154.493062\n",
       "1     Alabama  32.318231  -86.902298\n",
       "2    Arkansas  35.201050  -91.831833\n",
       "3     Arizona  34.048928 -111.093731\n",
       "4  California  36.778261 -119.417932"
      ]
     },
     "execution_count": 27,
     "metadata": {},
     "output_type": "execute_result"
    }
   ],
   "source": [
    "state_df = pd.read_csv('../data/state_clean.csv')\n",
    "state_df.head()"
   ]
  },
  {
   "cell_type": "code",
   "execution_count": 28,
   "metadata": {},
   "outputs": [
    {
     "data": {
      "text/plain": [
       "state         object\n",
       "latitude     float64\n",
       "longitude    float64\n",
       "dtype: object"
      ]
     },
     "execution_count": 28,
     "metadata": {},
     "output_type": "execute_result"
    }
   ],
   "source": [
    "state_df.dtypes"
   ]
  },
  {
   "cell_type": "code",
   "execution_count": 29,
   "metadata": {},
   "outputs": [],
   "source": [
    "for index, name in state_df.iterrows():\n",
    "    session.add(State(state=name['state'], latitude=name['latitude'], longitude=name['longitude']))"
   ]
  },
  {
   "cell_type": "code",
   "execution_count": 30,
   "metadata": {},
   "outputs": [],
   "source": [
    "session.commit()"
   ]
  },
  {
   "cell_type": "code",
   "execution_count": 31,
   "metadata": {},
   "outputs": [],
   "source": [
    "session.close()"
   ]
  },
  {
   "cell_type": "code",
   "execution_count": null,
   "metadata": {},
   "outputs": [],
   "source": []
  }
 ],
 "metadata": {
  "kernelspec": {
   "display_name": "Python [conda env:PythonData] *",
   "language": "python",
   "name": "conda-env-PythonData-py"
  },
  "language_info": {
   "codemirror_mode": {
    "name": "ipython",
    "version": 3
   },
   "file_extension": ".py",
   "mimetype": "text/x-python",
   "name": "python",
   "nbconvert_exporter": "python",
   "pygments_lexer": "ipython3",
   "version": "3.6.10"
  }
 },
 "nbformat": 4,
 "nbformat_minor": 4
}
