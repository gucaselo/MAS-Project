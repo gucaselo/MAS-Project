{
 "cells": [
  {
   "cell_type": "code",
   "execution_count": 2,
   "metadata": {},
   "outputs": [],
   "source": [
    "# Dependencies\n",
    "import pandas as pd\n",
    "import numpy as np\n",
    "from sqlalchemy import create_engine, inspect, Column, Integer, String, Float, DateTime \n",
    "from sqlalchemy.orm import Session\n",
    "from sqlalchemy.ext.automap import automap_base\n",
    "from sqlalchemy.ext.declarative import declarative_base"
   ]
  },
  {
   "cell_type": "code",
   "execution_count": null,
   "metadata": {},
   "outputs": [],
   "source": [
    "# Sets an object to utilize the default declarative base in SQL Alchemy\n",
    "Base = declarative_base()"
   ]
  },
  {
   "cell_type": "code",
   "execution_count": null,
   "metadata": {},
   "outputs": [],
   "source": [
    "# Creates Classes which will serve as the anchor points for our Tables\n",
    "class Shooting(Base):\n",
    "    __tablename__ = 'shooting_data'\n",
    "    incident_id = Column(Integer, primary_key = True)\n",
    "    incident_date = Column(String(255))\n",
    "    state = Column(String(255), foreign_key = True)\n",
    "    city_county = Column(String(255))\n",
    "    address = Column(String(255))\n",
    "    number_killed = Column(Integer)\n",
    "    number_injured = Column(Integer)\n",
    "    latitude = Column(Float)\n",
    "    longitude = Column(Float)"
   ]
  },
  {
   "cell_type": "code",
   "execution_count": null,
   "metadata": {},
   "outputs": [],
   "source": [
    "# Creates Classes which will serve as the anchor points for our Tables\n",
    "class Guns(Base):\n",
    "    __tablename__ = 'ownership_data'\n",
    "    rank = Column(Integer)\n",
    "    state = Column(String(255), primary_key = True)\n",
    "    number_per_capita = Column(Integer)\n",
    "    number_registered = Column(Integer)"
   ]
  },
  {
   "cell_type": "code",
   "execution_count": null,
   "metadata": {},
   "outputs": [],
   "source": [
    "# Creates Classes which will serve as the anchor points for our Tables\n",
    "class Poverty(Base):\n",
    "    __tablename__ = 'poverty_data'\n",
    "    rank = Column(Integer)\n",
    "    state = Column(String(255), primary_key = True)\n",
    "    poverty_rate = Column(String(255))"
   ]
  },
  {
   "cell_type": "code",
   "execution_count": null,
   "metadata": {},
   "outputs": [],
   "source": [
    "# Creates a connection to our DB\n",
    "engine = create_engine('sqlite:///data/shootings.sqlite', echo=True)\n",
    "conn = engine.connect()"
   ]
  },
  {
   "cell_type": "code",
   "execution_count": null,
   "metadata": {},
   "outputs": [],
   "source": [
    "# Create (if not already in existence) the tables associated with our classes.\n",
    "Base.metadata.create_all(engine)"
   ]
  },
  {
   "cell_type": "code",
   "execution_count": null,
   "metadata": {},
   "outputs": [],
   "source": [
    "# Session is a temporary binding to our DB\n",
    "session = Session(bind=engine)"
   ]
  },
  {
   "cell_type": "code",
   "execution_count": null,
   "metadata": {},
   "outputs": [],
   "source": [
    "# Store filepath in a variable\n",
    "file_one = \"Data/final_msa.csv\"\n",
    "file_two = \"Data/gun_ownership.csv\"\n",
    "file_three = \"Data/poverty_data_cleaned.csv\"\n",
    "\n",
    "# Read in csv files\n",
    "df = pd.read_csv(file_one)\n",
    "df2 = pd.read_csv(file_two)\n",
    "df3 = pd.read_csv(file_three)"
   ]
  },
  {
   "cell_type": "code",
   "execution_count": null,
   "metadata": {},
   "outputs": [],
   "source": [
    "for index, row in df.iterrows():\n",
    "    new_row = Shooting(incident_id = df.loc[index,'incident_id'],incident_date = df.loc[index,'incident_date'],\n",
    "                       state = df.loc[index, 'state'], city_county = df.loc[index, 'city_county'],\n",
    "                       address = df.loc[index, 'address'], number_killed = df.loc[index, 'number_killed'],\n",
    "                      number_injured = df.loc[index, 'number_injured'], latitude = df.loc[index, 'latitude'],\n",
    "                       longitude = df.loc[index, 'longitude'])    \n",
    "    \n",
    "    # Add these objects to the session\n",
    "    session.add(new_row)\n",
    "    \n",
    "    # Commit the objects to the database\n",
    "    session.commit()"
   ]
  },
  {
   "cell_type": "code",
   "execution_count": null,
   "metadata": {},
   "outputs": [],
   "source": [
    "for index, row in df2.iterrows():\n",
    "    \n",
    "    new_gun = Guns(rank = df2.loc[index, 'rank'], state = df2.loc[index, 'state'],\n",
    "                           number_per_capita = df2.loc[index, 'number_per_capita'],\n",
    "                      number_registered = df2.loc[index, 'number_registered'])   \n",
    "    \n",
    "    # Add these objects to the session\n",
    "    session.add(new_gun)\n",
    "    \n",
    "    # Commit the objects to the database\n",
    "    session.commit()"
   ]
  },
  {
   "cell_type": "code",
   "execution_count": null,
   "metadata": {},
   "outputs": [],
   "source": [
    "for index, row in df3.iterrows():\n",
    "    \n",
    "    new_poverty = Poverty(rank = df3.loc[index, 'rank'], state = df3.loc[index, 'state'],\n",
    "                          poverty_rate = df3.loc[index, '2019_poverty'])\n",
    "      \n",
    "    # Add these objects to the session\n",
    "    session.add(new_poverty)\n",
    "    \n",
    "    # Commit the objects to the database\n",
    "    session.commit()"
   ]
  },
  {
   "cell_type": "code",
   "execution_count": null,
   "metadata": {},
   "outputs": [],
   "source": [
    "session.close()"
   ]
  },
  {
   "cell_type": "markdown",
   "metadata": {},
   "source": [
    "## Import the SQLite Table"
   ]
  },
  {
   "cell_type": "code",
   "execution_count": 3,
   "metadata": {},
   "outputs": [
    {
     "name": "stdout",
     "output_type": "stream",
     "text": [
      "2021-05-03 19:19:30,487 INFO sqlalchemy.engine.base.Engine SELECT CAST('test plain returns' AS VARCHAR(60)) AS anon_1\n",
      "2021-05-03 19:19:30,491 INFO sqlalchemy.engine.base.Engine ()\n",
      "2021-05-03 19:19:30,494 INFO sqlalchemy.engine.base.Engine SELECT CAST('test unicode returns' AS VARCHAR(60)) AS anon_1\n",
      "2021-05-03 19:19:30,495 INFO sqlalchemy.engine.base.Engine ()\n"
     ]
    }
   ],
   "source": [
    "engine = create_engine('sqlite:///data/shootings.sqlite', echo=True)\n",
    "session = Session(bind=engine)\n",
    "inspector = inspect(engine)"
   ]
  },
  {
   "cell_type": "code",
   "execution_count": 4,
   "metadata": {},
   "outputs": [
    {
     "name": "stdout",
     "output_type": "stream",
     "text": [
      "2021-05-03 19:19:34,726 INFO sqlalchemy.engine.base.Engine SELECT name FROM sqlite_master WHERE type='table' ORDER BY name\n",
      "2021-05-03 19:19:34,728 INFO sqlalchemy.engine.base.Engine ()\n"
     ]
    },
    {
     "data": {
      "text/plain": [
       "['ownership_data', 'poverty_data', 'shooting_data']"
      ]
     },
     "execution_count": 4,
     "metadata": {},
     "output_type": "execute_result"
    }
   ],
   "source": [
    "# Collect the names of tables within the database\n",
    "inspector.get_table_names()"
   ]
  },
  {
   "cell_type": "code",
   "execution_count": 5,
   "metadata": {},
   "outputs": [],
   "source": [
    "# Declare a Base using `automap_base()`\n",
    "Base = automap_base()"
   ]
  },
  {
   "cell_type": "code",
   "execution_count": 6,
   "metadata": {},
   "outputs": [
    {
     "name": "stdout",
     "output_type": "stream",
     "text": [
      "2021-05-03 19:19:38,714 INFO sqlalchemy.engine.base.Engine SELECT name FROM sqlite_master WHERE type='table' ORDER BY name\n",
      "2021-05-03 19:19:38,717 INFO sqlalchemy.engine.base.Engine ()\n",
      "2021-05-03 19:19:38,721 INFO sqlalchemy.engine.base.Engine PRAGMA main.table_info(\"ownership_data\")\n",
      "2021-05-03 19:19:38,724 INFO sqlalchemy.engine.base.Engine ()\n",
      "2021-05-03 19:19:38,728 INFO sqlalchemy.engine.base.Engine SELECT sql FROM  (SELECT * FROM sqlite_master UNION ALL   SELECT * FROM sqlite_temp_master) WHERE name = 'ownership_data' AND type = 'table'\n",
      "2021-05-03 19:19:38,731 INFO sqlalchemy.engine.base.Engine ()\n",
      "2021-05-03 19:19:38,734 INFO sqlalchemy.engine.base.Engine PRAGMA main.foreign_key_list(\"ownership_data\")\n",
      "2021-05-03 19:19:38,735 INFO sqlalchemy.engine.base.Engine ()\n",
      "2021-05-03 19:19:38,737 INFO sqlalchemy.engine.base.Engine PRAGMA temp.foreign_key_list(\"ownership_data\")\n",
      "2021-05-03 19:19:38,739 INFO sqlalchemy.engine.base.Engine ()\n",
      "2021-05-03 19:19:38,741 INFO sqlalchemy.engine.base.Engine SELECT sql FROM  (SELECT * FROM sqlite_master UNION ALL   SELECT * FROM sqlite_temp_master) WHERE name = 'ownership_data' AND type = 'table'\n",
      "2021-05-03 19:19:38,742 INFO sqlalchemy.engine.base.Engine ()\n",
      "2021-05-03 19:19:38,748 INFO sqlalchemy.engine.base.Engine PRAGMA main.index_list(\"ownership_data\")\n",
      "2021-05-03 19:19:38,750 INFO sqlalchemy.engine.base.Engine ()\n",
      "2021-05-03 19:19:38,752 INFO sqlalchemy.engine.base.Engine PRAGMA temp.index_list(\"ownership_data\")\n",
      "2021-05-03 19:19:38,753 INFO sqlalchemy.engine.base.Engine ()\n",
      "2021-05-03 19:19:38,756 INFO sqlalchemy.engine.base.Engine PRAGMA main.index_list(\"ownership_data\")\n",
      "2021-05-03 19:19:38,758 INFO sqlalchemy.engine.base.Engine ()\n",
      "2021-05-03 19:19:38,761 INFO sqlalchemy.engine.base.Engine PRAGMA temp.index_list(\"ownership_data\")\n",
      "2021-05-03 19:19:38,762 INFO sqlalchemy.engine.base.Engine ()\n",
      "2021-05-03 19:19:38,763 INFO sqlalchemy.engine.base.Engine SELECT sql FROM  (SELECT * FROM sqlite_master UNION ALL   SELECT * FROM sqlite_temp_master) WHERE name = 'ownership_data' AND type = 'table'\n",
      "2021-05-03 19:19:38,765 INFO sqlalchemy.engine.base.Engine ()\n",
      "2021-05-03 19:19:38,773 INFO sqlalchemy.engine.base.Engine PRAGMA main.table_info(\"poverty_data\")\n",
      "2021-05-03 19:19:38,777 INFO sqlalchemy.engine.base.Engine ()\n",
      "2021-05-03 19:19:38,781 INFO sqlalchemy.engine.base.Engine SELECT sql FROM  (SELECT * FROM sqlite_master UNION ALL   SELECT * FROM sqlite_temp_master) WHERE name = 'poverty_data' AND type = 'table'\n",
      "2021-05-03 19:19:38,782 INFO sqlalchemy.engine.base.Engine ()\n",
      "2021-05-03 19:19:38,785 INFO sqlalchemy.engine.base.Engine PRAGMA main.foreign_key_list(\"poverty_data\")\n",
      "2021-05-03 19:19:38,787 INFO sqlalchemy.engine.base.Engine ()\n",
      "2021-05-03 19:19:38,789 INFO sqlalchemy.engine.base.Engine PRAGMA temp.foreign_key_list(\"poverty_data\")\n",
      "2021-05-03 19:19:38,790 INFO sqlalchemy.engine.base.Engine ()\n",
      "2021-05-03 19:19:38,794 INFO sqlalchemy.engine.base.Engine SELECT sql FROM  (SELECT * FROM sqlite_master UNION ALL   SELECT * FROM sqlite_temp_master) WHERE name = 'poverty_data' AND type = 'table'\n",
      "2021-05-03 19:19:38,797 INFO sqlalchemy.engine.base.Engine ()\n",
      "2021-05-03 19:19:38,801 INFO sqlalchemy.engine.base.Engine PRAGMA main.index_list(\"poverty_data\")\n",
      "2021-05-03 19:19:38,803 INFO sqlalchemy.engine.base.Engine ()\n",
      "2021-05-03 19:19:38,804 INFO sqlalchemy.engine.base.Engine PRAGMA temp.index_list(\"poverty_data\")\n",
      "2021-05-03 19:19:38,807 INFO sqlalchemy.engine.base.Engine ()\n",
      "2021-05-03 19:19:38,811 INFO sqlalchemy.engine.base.Engine PRAGMA main.index_list(\"poverty_data\")\n",
      "2021-05-03 19:19:38,813 INFO sqlalchemy.engine.base.Engine ()\n",
      "2021-05-03 19:19:38,818 INFO sqlalchemy.engine.base.Engine PRAGMA temp.index_list(\"poverty_data\")\n",
      "2021-05-03 19:19:38,820 INFO sqlalchemy.engine.base.Engine ()\n",
      "2021-05-03 19:19:38,822 INFO sqlalchemy.engine.base.Engine SELECT sql FROM  (SELECT * FROM sqlite_master UNION ALL   SELECT * FROM sqlite_temp_master) WHERE name = 'poverty_data' AND type = 'table'\n",
      "2021-05-03 19:19:38,823 INFO sqlalchemy.engine.base.Engine ()\n",
      "2021-05-03 19:19:38,827 INFO sqlalchemy.engine.base.Engine PRAGMA main.table_info(\"shooting_data\")\n",
      "2021-05-03 19:19:38,828 INFO sqlalchemy.engine.base.Engine ()\n",
      "2021-05-03 19:19:38,832 INFO sqlalchemy.engine.base.Engine SELECT sql FROM  (SELECT * FROM sqlite_master UNION ALL   SELECT * FROM sqlite_temp_master) WHERE name = 'shooting_data' AND type = 'table'\n",
      "2021-05-03 19:19:38,835 INFO sqlalchemy.engine.base.Engine ()\n",
      "2021-05-03 19:19:38,840 INFO sqlalchemy.engine.base.Engine PRAGMA main.foreign_key_list(\"shooting_data\")\n",
      "2021-05-03 19:19:38,842 INFO sqlalchemy.engine.base.Engine ()\n",
      "2021-05-03 19:19:38,844 INFO sqlalchemy.engine.base.Engine PRAGMA temp.foreign_key_list(\"shooting_data\")\n",
      "2021-05-03 19:19:38,845 INFO sqlalchemy.engine.base.Engine ()\n",
      "2021-05-03 19:19:38,847 INFO sqlalchemy.engine.base.Engine SELECT sql FROM  (SELECT * FROM sqlite_master UNION ALL   SELECT * FROM sqlite_temp_master) WHERE name = 'shooting_data' AND type = 'table'\n",
      "2021-05-03 19:19:38,848 INFO sqlalchemy.engine.base.Engine ()\n",
      "2021-05-03 19:19:38,851 INFO sqlalchemy.engine.base.Engine PRAGMA main.index_list(\"shooting_data\")\n",
      "2021-05-03 19:19:38,852 INFO sqlalchemy.engine.base.Engine ()\n",
      "2021-05-03 19:19:38,856 INFO sqlalchemy.engine.base.Engine PRAGMA temp.index_list(\"shooting_data\")\n",
      "2021-05-03 19:19:38,860 INFO sqlalchemy.engine.base.Engine ()\n",
      "2021-05-03 19:19:38,862 INFO sqlalchemy.engine.base.Engine PRAGMA main.index_list(\"shooting_data\")\n",
      "2021-05-03 19:19:38,864 INFO sqlalchemy.engine.base.Engine ()\n",
      "2021-05-03 19:19:38,866 INFO sqlalchemy.engine.base.Engine PRAGMA temp.index_list(\"shooting_data\")\n",
      "2021-05-03 19:19:38,868 INFO sqlalchemy.engine.base.Engine ()\n",
      "2021-05-03 19:19:38,871 INFO sqlalchemy.engine.base.Engine SELECT sql FROM  (SELECT * FROM sqlite_master UNION ALL   SELECT * FROM sqlite_temp_master) WHERE name = 'shooting_data' AND type = 'table'\n",
      "2021-05-03 19:19:38,874 INFO sqlalchemy.engine.base.Engine ()\n"
     ]
    }
   ],
   "source": [
    "# Use the Base class to reflect the database tables\n",
    "Base.prepare(engine, reflect=True)"
   ]
  },
  {
   "cell_type": "code",
   "execution_count": 7,
   "metadata": {},
   "outputs": [
    {
     "data": {
      "text/plain": [
       "['ownership_data', 'poverty_data', 'shooting_data']"
      ]
     },
     "execution_count": 7,
     "metadata": {},
     "output_type": "execute_result"
    }
   ],
   "source": [
    "# Print all of the classes mapped to the Base\n",
    "Base.classes.keys()"
   ]
  },
  {
   "cell_type": "code",
   "execution_count": 8,
   "metadata": {},
   "outputs": [],
   "source": [
    "data = Base.classes.shooting_data\n",
    "guns = Base.classes.ownership_data\n",
    "poverty = Base.classes.poverty_data"
   ]
  },
  {
   "cell_type": "code",
   "execution_count": 9,
   "metadata": {},
   "outputs": [
    {
     "name": "stdout",
     "output_type": "stream",
     "text": [
      "2021-05-03 19:19:48,014 INFO sqlalchemy.engine.base.Engine BEGIN (implicit)\n",
      "2021-05-03 19:19:48,016 INFO sqlalchemy.engine.base.Engine SELECT shooting_data.longitude AS shooting_data_longitude \n",
      "FROM shooting_data\n",
      "2021-05-03 19:19:48,017 INFO sqlalchemy.engine.base.Engine ()\n",
      "2021-05-03 19:19:48,034 INFO sqlalchemy.engine.base.Engine SELECT shooting_data.latitude AS shooting_data_latitude \n",
      "FROM shooting_data\n",
      "2021-05-03 19:19:48,037 INFO sqlalchemy.engine.base.Engine ()\n",
      "2021-05-03 19:19:48,047 INFO sqlalchemy.engine.base.Engine SELECT shooting_data.number_killed AS shooting_data_number_killed \n",
      "FROM shooting_data\n",
      "2021-05-03 19:19:48,049 INFO sqlalchemy.engine.base.Engine ()\n",
      "2021-05-03 19:19:48,063 INFO sqlalchemy.engine.base.Engine SELECT shooting_data.incident_date AS shooting_data_incident_date \n",
      "FROM shooting_data\n",
      "2021-05-03 19:19:48,065 INFO sqlalchemy.engine.base.Engine ()\n",
      "2021-05-03 19:19:48,079 INFO sqlalchemy.engine.base.Engine SELECT shooting_data.state AS shooting_data_state \n",
      "FROM shooting_data\n",
      "2021-05-03 19:19:48,081 INFO sqlalchemy.engine.base.Engine ()\n",
      "2021-05-03 19:19:48,094 INFO sqlalchemy.engine.base.Engine SELECT shooting_data.city_county AS shooting_data_city_county \n",
      "FROM shooting_data\n",
      "2021-05-03 19:19:48,096 INFO sqlalchemy.engine.base.Engine ()\n"
     ]
    }
   ],
   "source": [
    "lng = session.query(data.longitude).all()\n",
    "lat = session.query(data.latitude).all()\n",
    "killed = session.query(data.number_killed).all()\n",
    "injured = session.query(data.number_injured).all\n",
    "date = session.query(data.incident_date).all()\n",
    "state = session.query(data.state).all()\n",
    "locale = session.query(data.city_county).all()"
   ]
  },
  {
   "cell_type": "code",
   "execution_count": 10,
   "metadata": {},
   "outputs": [
    {
     "name": "stdout",
     "output_type": "stream",
     "text": [
      "2021-05-03 19:19:53,621 INFO sqlalchemy.engine.base.Engine SELECT ownership_data.state AS ownership_data_state \n",
      "FROM ownership_data\n",
      "2021-05-03 19:19:53,623 INFO sqlalchemy.engine.base.Engine ()\n",
      "2021-05-03 19:19:53,627 INFO sqlalchemy.engine.base.Engine SELECT ownership_data.number_per_capita AS ownership_data_number_per_capita \n",
      "FROM ownership_data\n",
      "2021-05-03 19:19:53,629 INFO sqlalchemy.engine.base.Engine ()\n"
     ]
    }
   ],
   "source": [
    "gun_states = session.query(guns.state).all()\n",
    "gun_capita = session.query(guns.number_per_capita).all()"
   ]
  },
  {
   "cell_type": "code",
   "execution_count": 11,
   "metadata": {},
   "outputs": [
    {
     "name": "stdout",
     "output_type": "stream",
     "text": [
      "2021-05-03 19:19:56,783 INFO sqlalchemy.engine.base.Engine SELECT poverty_data.state AS poverty_data_state \n",
      "FROM poverty_data\n",
      "2021-05-03 19:19:56,785 INFO sqlalchemy.engine.base.Engine ()\n",
      "2021-05-03 19:19:56,790 INFO sqlalchemy.engine.base.Engine SELECT poverty_data.poverty_rate AS poverty_data_poverty_rate \n",
      "FROM poverty_data\n",
      "2021-05-03 19:19:56,792 INFO sqlalchemy.engine.base.Engine ()\n"
     ]
    }
   ],
   "source": [
    "poverty_states = session.query(poverty.state).all()\n",
    "poverty_rates = session.query(poverty.poverty_rate).all()"
   ]
  },
  {
   "cell_type": "code",
   "execution_count": 12,
   "metadata": {},
   "outputs": [],
   "source": [
    "incident_list = {'date': date,\n",
    "                'state': state,\n",
    "                'city_county': locale,\n",
    "                'killed': killed,\n",
    "                'injured': injured,\n",
    "                'latitude': lat,\n",
    "                'longitude': lng}"
   ]
  },
  {
   "cell_type": "code",
   "execution_count": 13,
   "metadata": {},
   "outputs": [],
   "source": [
    "gun_list = {'state': gun_states,\n",
    "                'num_guns': gun_capita}"
   ]
  },
  {
   "cell_type": "code",
   "execution_count": 14,
   "metadata": {},
   "outputs": [],
   "source": [
    "poverty_list = {'state' : poverty_states,\n",
    "               'poverty_rates': poverty_rates}"
   ]
  },
  {
   "cell_type": "code",
   "execution_count": null,
   "metadata": {},
   "outputs": [],
   "source": []
  }
 ],
 "metadata": {
  "kernelspec": {
   "display_name": "Python [conda env:PythonData] *",
   "language": "python",
   "name": "conda-env-PythonData-py"
  },
  "language_info": {
   "codemirror_mode": {
    "name": "ipython",
    "version": 3
   },
   "file_extension": ".py",
   "mimetype": "text/x-python",
   "name": "python",
   "nbconvert_exporter": "python",
   "pygments_lexer": "ipython3",
   "version": "3.6.10"
  }
 },
 "nbformat": 4,
 "nbformat_minor": 4
}
