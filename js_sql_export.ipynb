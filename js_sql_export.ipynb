{
 "cells": [
  {
   "cell_type": "code",
   "execution_count": 1,
   "metadata": {},
   "outputs": [],
   "source": [
    "# Dependencies\n",
    "import pandas as pd\n",
    "import numpy as np\n",
    "from sqlalchemy import create_engine, inspect, Column, Integer, String, Float, DateTime \n",
    "from sqlalchemy.orm import Session\n",
    "from sqlalchemy.ext.automap import automap_base\n",
    "from sqlalchemy.ext.declarative import declarative_base"
   ]
  },
  {
   "cell_type": "code",
   "execution_count": null,
   "metadata": {},
   "outputs": [],
   "source": [
    "# Sets an object to utilize the default declarative base in SQL Alchemy\n",
    "Base = declarative_base()"
   ]
  },
  {
   "cell_type": "code",
   "execution_count": null,
   "metadata": {},
   "outputs": [],
   "source": [
    "# Creates Classes which will serve as the anchor points for our Tables\n",
    "class Shooting(Base):\n",
    "    __tablename__ = 'shooting_data'\n",
    "    index = Column(Integer, primary_key = True)\n",
    "    incident_id = Column(Integer)\n",
    "    incident_date = Column(String(255))\n",
    "    state = Column(String(255))\n",
    "    city_county = Column(String(255))\n",
    "    address = Column(String(255))\n",
    "    number_killed = Column(Integer)\n",
    "    number_injured = Column(Integer)\n",
    "    latitude = Column(Float)\n",
    "    longitude = Column(Float)"
   ]
  },
  {
   "cell_type": "code",
   "execution_count": null,
   "metadata": {},
   "outputs": [],
   "source": [
    "# Creates a connection to our DB\n",
    "engine = create_engine('sqlite:///data/shootings.sqlite', echo=True)\n",
    "conn = engine.connect()"
   ]
  },
  {
   "cell_type": "code",
   "execution_count": null,
   "metadata": {},
   "outputs": [],
   "source": [
    "# Create (if not already in existence) the tables associated with our classes.\n",
    "Base.metadata.create_all(engine)"
   ]
  },
  {
   "cell_type": "code",
   "execution_count": null,
   "metadata": {},
   "outputs": [],
   "source": [
    "# Session is a temporary binding to our DB\n",
    "session = Session(bind=engine)"
   ]
  },
  {
   "cell_type": "code",
   "execution_count": null,
   "metadata": {},
   "outputs": [],
   "source": [
    "# Store filepath in a variable\n",
    "file_one = \"Data/final_msa.csv\"\n",
    "\n",
    "# Read in csv file\n",
    "df = pd.read_csv(file_one)"
   ]
  },
  {
   "cell_type": "code",
   "execution_count": null,
   "metadata": {},
   "outputs": [],
   "source": [
    "for index, row in df.iterrows():\n",
    "    new_row = Shooting(incident_id = df.loc[index,'incident_id'],incident_date = df.loc[index,'incident_date'],\n",
    "                       state = df.loc[index, 'state'], city_county = df.loc[index, 'city_county'],\n",
    "                       address = df.loc[index, 'address'], number_killed = df.loc[index, 'number_killed'],\n",
    "                      number_injured = df.loc[index, 'number_injured'], latitude = df.loc[index, 'latitude'],\n",
    "                       longitude = df.loc[index, 'longitude'])\n",
    "    # Add these objects to the session\n",
    "    session.add(new_row)\n",
    "    # Commit the objects to the database\n",
    "    session.commit()"
   ]
  },
  {
   "cell_type": "code",
   "execution_count": null,
   "metadata": {},
   "outputs": [],
   "source": [
    "session.close()"
   ]
  },
  {
   "cell_type": "markdown",
   "metadata": {},
   "source": [
    "## Import the SQLite Table"
   ]
  },
  {
   "cell_type": "code",
   "execution_count": 2,
   "metadata": {},
   "outputs": [
    {
     "name": "stdout",
     "output_type": "stream",
     "text": [
      "2021-05-02 13:34:27,256 INFO sqlalchemy.engine.base.Engine SELECT CAST('test plain returns' AS VARCHAR(60)) AS anon_1\n",
      "2021-05-02 13:34:27,262 INFO sqlalchemy.engine.base.Engine ()\n",
      "2021-05-02 13:34:27,265 INFO sqlalchemy.engine.base.Engine SELECT CAST('test unicode returns' AS VARCHAR(60)) AS anon_1\n",
      "2021-05-02 13:34:27,267 INFO sqlalchemy.engine.base.Engine ()\n"
     ]
    }
   ],
   "source": [
    "engine = create_engine('sqlite:///data/shootings.sqlite', echo=True)\n",
    "session = Session(bind=engine)\n",
    "inspector = inspect(engine)"
   ]
  },
  {
   "cell_type": "code",
   "execution_count": 3,
   "metadata": {},
   "outputs": [
    {
     "name": "stdout",
     "output_type": "stream",
     "text": [
      "2021-05-02 13:34:28,087 INFO sqlalchemy.engine.base.Engine SELECT name FROM sqlite_master WHERE type='table' ORDER BY name\n",
      "2021-05-02 13:34:28,089 INFO sqlalchemy.engine.base.Engine ()\n"
     ]
    },
    {
     "data": {
      "text/plain": [
       "['shooting_data']"
      ]
     },
     "execution_count": 3,
     "metadata": {},
     "output_type": "execute_result"
    }
   ],
   "source": [
    "# Collect the names of tables within the database\n",
    "inspector.get_table_names()"
   ]
  },
  {
   "cell_type": "code",
   "execution_count": 4,
   "metadata": {},
   "outputs": [],
   "source": [
    "# Declare a Base using `automap_base()`\n",
    "Base = automap_base()"
   ]
  },
  {
   "cell_type": "code",
   "execution_count": 5,
   "metadata": {},
   "outputs": [
    {
     "name": "stdout",
     "output_type": "stream",
     "text": [
      "2021-05-02 13:34:32,295 INFO sqlalchemy.engine.base.Engine SELECT name FROM sqlite_master WHERE type='table' ORDER BY name\n",
      "2021-05-02 13:34:32,297 INFO sqlalchemy.engine.base.Engine ()\n",
      "2021-05-02 13:34:32,301 INFO sqlalchemy.engine.base.Engine PRAGMA main.table_info(\"shooting_data\")\n",
      "2021-05-02 13:34:32,304 INFO sqlalchemy.engine.base.Engine ()\n",
      "2021-05-02 13:34:32,310 INFO sqlalchemy.engine.base.Engine SELECT sql FROM  (SELECT * FROM sqlite_master UNION ALL   SELECT * FROM sqlite_temp_master) WHERE name = 'shooting_data' AND type = 'table'\n",
      "2021-05-02 13:34:32,311 INFO sqlalchemy.engine.base.Engine ()\n",
      "2021-05-02 13:34:32,315 INFO sqlalchemy.engine.base.Engine PRAGMA main.foreign_key_list(\"shooting_data\")\n",
      "2021-05-02 13:34:32,318 INFO sqlalchemy.engine.base.Engine ()\n",
      "2021-05-02 13:34:32,320 INFO sqlalchemy.engine.base.Engine PRAGMA temp.foreign_key_list(\"shooting_data\")\n",
      "2021-05-02 13:34:32,322 INFO sqlalchemy.engine.base.Engine ()\n",
      "2021-05-02 13:34:32,324 INFO sqlalchemy.engine.base.Engine SELECT sql FROM  (SELECT * FROM sqlite_master UNION ALL   SELECT * FROM sqlite_temp_master) WHERE name = 'shooting_data' AND type = 'table'\n",
      "2021-05-02 13:34:32,326 INFO sqlalchemy.engine.base.Engine ()\n",
      "2021-05-02 13:34:32,334 INFO sqlalchemy.engine.base.Engine PRAGMA main.index_list(\"shooting_data\")\n",
      "2021-05-02 13:34:32,338 INFO sqlalchemy.engine.base.Engine ()\n",
      "2021-05-02 13:34:32,343 INFO sqlalchemy.engine.base.Engine PRAGMA temp.index_list(\"shooting_data\")\n",
      "2021-05-02 13:34:32,346 INFO sqlalchemy.engine.base.Engine ()\n",
      "2021-05-02 13:34:32,349 INFO sqlalchemy.engine.base.Engine PRAGMA main.index_list(\"shooting_data\")\n",
      "2021-05-02 13:34:32,350 INFO sqlalchemy.engine.base.Engine ()\n",
      "2021-05-02 13:34:32,353 INFO sqlalchemy.engine.base.Engine PRAGMA temp.index_list(\"shooting_data\")\n",
      "2021-05-02 13:34:32,354 INFO sqlalchemy.engine.base.Engine ()\n",
      "2021-05-02 13:34:32,355 INFO sqlalchemy.engine.base.Engine SELECT sql FROM  (SELECT * FROM sqlite_master UNION ALL   SELECT * FROM sqlite_temp_master) WHERE name = 'shooting_data' AND type = 'table'\n",
      "2021-05-02 13:34:32,356 INFO sqlalchemy.engine.base.Engine ()\n"
     ]
    }
   ],
   "source": [
    "# Use the Base class to reflect the database tables\n",
    "Base.prepare(engine, reflect=True)"
   ]
  },
  {
   "cell_type": "code",
   "execution_count": 6,
   "metadata": {},
   "outputs": [
    {
     "data": {
      "text/plain": [
       "['shooting_data']"
      ]
     },
     "execution_count": 6,
     "metadata": {},
     "output_type": "execute_result"
    }
   ],
   "source": [
    "# Print all of the classes mapped to the Base\n",
    "Base.classes.keys()"
   ]
  },
  {
   "cell_type": "code",
   "execution_count": 7,
   "metadata": {},
   "outputs": [],
   "source": [
    "data = Base.classes.shooting_data"
   ]
  },
  {
   "cell_type": "code",
   "execution_count": 8,
   "metadata": {},
   "outputs": [
    {
     "name": "stdout",
     "output_type": "stream",
     "text": [
      "2021-05-02 13:34:39,456 INFO sqlalchemy.engine.base.Engine BEGIN (implicit)\n",
      "2021-05-02 13:34:39,459 INFO sqlalchemy.engine.base.Engine SELECT shooting_data.longitude AS shooting_data_longitude \n",
      "FROM shooting_data\n",
      "2021-05-02 13:34:39,461 INFO sqlalchemy.engine.base.Engine ()\n",
      "2021-05-02 13:34:39,474 INFO sqlalchemy.engine.base.Engine SELECT shooting_data.latitude AS shooting_data_latitude \n",
      "FROM shooting_data\n",
      "2021-05-02 13:34:39,476 INFO sqlalchemy.engine.base.Engine ()\n",
      "2021-05-02 13:34:39,490 INFO sqlalchemy.engine.base.Engine SELECT shooting_data.number_killed AS shooting_data_number_killed \n",
      "FROM shooting_data\n",
      "2021-05-02 13:34:39,493 INFO sqlalchemy.engine.base.Engine ()\n",
      "2021-05-02 13:34:39,509 INFO sqlalchemy.engine.base.Engine SELECT shooting_data.incident_date AS shooting_data_incident_date \n",
      "FROM shooting_data\n",
      "2021-05-02 13:34:39,510 INFO sqlalchemy.engine.base.Engine ()\n",
      "2021-05-02 13:34:39,523 INFO sqlalchemy.engine.base.Engine SELECT shooting_data.state AS shooting_data_state \n",
      "FROM shooting_data\n",
      "2021-05-02 13:34:39,525 INFO sqlalchemy.engine.base.Engine ()\n",
      "2021-05-02 13:34:39,536 INFO sqlalchemy.engine.base.Engine SELECT shooting_data.city_county AS shooting_data_city_county \n",
      "FROM shooting_data\n",
      "2021-05-02 13:34:39,537 INFO sqlalchemy.engine.base.Engine ()\n"
     ]
    }
   ],
   "source": [
    "lng = session.query(data.longitude).all()\n",
    "lat = session.query(data.latitude).all()\n",
    "killed = session.query(data.number_killed).all()\n",
    "injured = session.query(data.number_injured).all\n",
    "date = session.query(data.incident_date).all()\n",
    "state = session.query(data.state).all()\n",
    "locale = session.query(data.city_county).all()"
   ]
  },
  {
   "cell_type": "code",
   "execution_count": 9,
   "metadata": {},
   "outputs": [],
   "source": [
    "incident_list = {'date': date,\n",
    "                'state': state,\n",
    "                'city_county': locale,\n",
    "                'killed': killed,\n",
    "                'injured': injured,\n",
    "                'latitude': lat,\n",
    "                'longitude': lng}"
   ]
  },
  {
   "cell_type": "code",
   "execution_count": null,
   "metadata": {},
   "outputs": [],
   "source": []
  }
 ],
 "metadata": {
  "kernelspec": {
   "display_name": "Python [conda env:PythonData] *",
   "language": "python",
   "name": "conda-env-PythonData-py"
  },
  "language_info": {
   "codemirror_mode": {
    "name": "ipython",
    "version": 3
   },
   "file_extension": ".py",
   "mimetype": "text/x-python",
   "name": "python",
   "nbconvert_exporter": "python",
   "pygments_lexer": "ipython3",
   "version": "3.6.10"
  }
 },
 "nbformat": 4,
 "nbformat_minor": 4
}
