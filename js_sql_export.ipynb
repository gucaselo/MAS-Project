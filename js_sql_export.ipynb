{
 "cells": [
  {
   "cell_type": "code",
   "execution_count": 1,
   "metadata": {},
   "outputs": [],
   "source": [
    "# Dependencies\n",
    "import pandas as pd\n",
    "import numpy as np\n",
    "from sqlalchemy import create_engine, inspect, Column, Integer, String, Float, DateTime \n",
    "from sqlalchemy.orm import Session\n",
    "from sqlalchemy.ext.automap import automap_base\n",
    "from sqlalchemy.ext.declarative import declarative_base"
   ]
  },
  {
   "cell_type": "code",
   "execution_count": null,
   "metadata": {},
   "outputs": [],
   "source": [
    "# Sets an object to utilize the default declarative base in SQL Alchemy\n",
    "Base = declarative_base()"
   ]
  },
  {
   "cell_type": "code",
   "execution_count": null,
   "metadata": {},
   "outputs": [],
   "source": [
    "# Creates Classes which will serve as the anchor points for our Tables\n",
    "class Shooting(Base):\n",
    "    __tablename__ = 'shooting_data'\n",
    "    index = Column(Integer, primary_key = True)\n",
    "    incident_id = Column(Integer)\n",
    "    incident_date = Column(String(255))\n",
    "    state = Column(String(255))\n",
    "    city_county = Column(String(255))\n",
    "    address = Column(String(255))\n",
    "    number_killed = Column(Integer)\n",
    "    number_injured = Column(Integer)\n",
    "    latitude = Column(Float)\n",
    "    longitude = Column(Float)"
   ]
  },
  {
   "cell_type": "code",
   "execution_count": null,
   "metadata": {},
   "outputs": [],
   "source": [
    "# Creates Classes which will serve as the anchor points for our Tables\n",
    "class Guns(Base):\n",
    "    __tablename__ = 'ownership_data'\n",
    "    index = Column(Integer, primary_key = True)\n",
    "    rank = Column(Integer)\n",
    "    state = Column(String(255))\n",
    "    number_per_capita = Column(Integer)\n",
    "    number_registered = Column(Integer)"
   ]
  },
  {
   "cell_type": "code",
   "execution_count": null,
   "metadata": {},
   "outputs": [],
   "source": [
    "# Creates Classes which will serve as the anchor points for our Tables\n",
    "class Poverty(Base):\n",
    "    __tablename__ = 'poverty_data'\n",
    "    index = Column(Integer, primary_key = True)\n",
    "    rank = Column(Integer)\n",
    "    state = Column(String(255))\n",
    "    poverty_rate = Column(String(255))"
   ]
  },
  {
   "cell_type": "code",
   "execution_count": null,
   "metadata": {},
   "outputs": [],
   "source": [
    "# Creates a connection to our DB\n",
    "engine = create_engine('sqlite:///data/shootings.sqlite', echo=True)\n",
    "conn = engine.connect()"
   ]
  },
  {
   "cell_type": "code",
   "execution_count": null,
   "metadata": {},
   "outputs": [],
   "source": [
    "# Create (if not already in existence) the tables associated with our classes.\n",
    "Base.metadata.create_all(engine)"
   ]
  },
  {
   "cell_type": "code",
   "execution_count": null,
   "metadata": {},
   "outputs": [],
   "source": [
    "# Session is a temporary binding to our DB\n",
    "session = Session(bind=engine)"
   ]
  },
  {
   "cell_type": "code",
   "execution_count": null,
   "metadata": {},
   "outputs": [],
   "source": [
    "# Store filepath in a variable\n",
    "file_one = \"data/final_msa.csv\"\n",
    "file_two = \"data/gun_ownership.csv\"\n",
    "file_three = \"data/poverty_data_cleaned.csv\"\n",
    "\n",
    "# Read in csv files\n",
    "df = pd.read_csv(file_one)\n",
    "df2 = pd.read_csv(file_two)\n",
    "df3 = pd.read_csv(file_three)"
   ]
  },
  {
   "cell_type": "code",
   "execution_count": null,
   "metadata": {},
   "outputs": [],
   "source": [
    "for index, row in df.iterrows():\n",
    "    new_row = Shooting(incident_id = df.loc[index,'incident_id'],incident_date = df.loc[index,'incident_date'],\n",
    "                       state = df.loc[index, 'state'], city_county = df.loc[index, 'city_county'],\n",
    "                       address = df.loc[index, 'address'], number_killed = int(df.loc[index, 'number_killed']),\n",
    "                      number_injured = int(df.loc[index, 'number_injured']), latitude = df.loc[index, 'latitude'],\n",
    "                       longitude = df.loc[index, 'longitude'])    \n",
    "    \n",
    "    # Add these objects to the session\n",
    "    session.add(new_row)\n",
    "    \n",
    "    # Commit the objects to the database\n",
    "    session.commit()"
   ]
  },
  {
   "cell_type": "code",
   "execution_count": null,
   "metadata": {},
   "outputs": [],
   "source": [
    "for index, row in df2.iterrows():\n",
    "    \n",
    "    new_gun = Guns(rank = df2.loc[index, 'rank'], state = df2.loc[index, 'state'],\n",
    "                           number_per_capita = df2.loc[index, 'number_per_capita'],\n",
    "                      number_registered = df2.loc[index, 'number_registered'])   \n",
    "    \n",
    "    # Add these objects to the session\n",
    "    session.add(new_gun)\n",
    "    \n",
    "    # Commit the objects to the database\n",
    "    session.commit()"
   ]
  },
  {
   "cell_type": "code",
   "execution_count": null,
   "metadata": {},
   "outputs": [],
   "source": [
    "for index, row in df3.iterrows():\n",
    "    \n",
    "    new_poverty = Poverty(rank = df3.loc[index, 'rank'], state = df3.loc[index, 'state'],\n",
    "                          poverty_rate = df3.loc[index, '2019_poverty'])\n",
    "      \n",
    "    # Add these objects to the session\n",
    "    session.add(new_poverty)\n",
    "    \n",
    "    # Commit the objects to the database\n",
    "    session.commit()"
   ]
  },
  {
   "cell_type": "code",
   "execution_count": null,
   "metadata": {},
   "outputs": [],
   "source": [
    "session.close()"
   ]
  },
  {
   "cell_type": "markdown",
   "metadata": {},
   "source": [
    "## Import the SQLite Table"
   ]
  },
  {
   "cell_type": "code",
   "execution_count": 2,
   "metadata": {},
   "outputs": [
    {
     "name": "stdout",
     "output_type": "stream",
     "text": [
      "2021-05-05 18:10:09,135 INFO sqlalchemy.engine.base.Engine SELECT CAST('test plain returns' AS VARCHAR(60)) AS anon_1\n",
      "2021-05-05 18:10:09,141 INFO sqlalchemy.engine.base.Engine ()\n",
      "2021-05-05 18:10:09,144 INFO sqlalchemy.engine.base.Engine SELECT CAST('test unicode returns' AS VARCHAR(60)) AS anon_1\n",
      "2021-05-05 18:10:09,145 INFO sqlalchemy.engine.base.Engine ()\n"
     ]
    }
   ],
   "source": [
    "engine = create_engine('sqlite:///data/shootings.sqlite', echo=True)\n",
    "session = Session(bind=engine)\n",
    "inspector = inspect(engine)"
   ]
  },
  {
   "cell_type": "code",
   "execution_count": 3,
   "metadata": {},
   "outputs": [
    {
     "name": "stdout",
     "output_type": "stream",
     "text": [
      "2021-05-05 18:10:10,903 INFO sqlalchemy.engine.base.Engine SELECT name FROM sqlite_master WHERE type='table' ORDER BY name\n",
      "2021-05-05 18:10:10,906 INFO sqlalchemy.engine.base.Engine ()\n"
     ]
    },
    {
     "data": {
      "text/plain": [
       "['ownership_data', 'poverty_data', 'shooting_data']"
      ]
     },
     "execution_count": 3,
     "metadata": {},
     "output_type": "execute_result"
    }
   ],
   "source": [
    "# Collect the names of tables within the database\n",
    "inspector.get_table_names()"
   ]
  },
  {
   "cell_type": "code",
   "execution_count": 4,
   "metadata": {},
   "outputs": [],
   "source": [
    "# Declare a Base using `automap_base()`\n",
    "Base = automap_base()"
   ]
  },
  {
   "cell_type": "code",
   "execution_count": 5,
   "metadata": {},
   "outputs": [
    {
     "name": "stdout",
     "output_type": "stream",
     "text": [
      "2021-05-05 18:10:13,331 INFO sqlalchemy.engine.base.Engine SELECT name FROM sqlite_master WHERE type='table' ORDER BY name\n",
      "2021-05-05 18:10:13,333 INFO sqlalchemy.engine.base.Engine ()\n",
      "2021-05-05 18:10:13,337 INFO sqlalchemy.engine.base.Engine PRAGMA main.table_info(\"ownership_data\")\n",
      "2021-05-05 18:10:13,340 INFO sqlalchemy.engine.base.Engine ()\n",
      "2021-05-05 18:10:13,344 INFO sqlalchemy.engine.base.Engine SELECT sql FROM  (SELECT * FROM sqlite_master UNION ALL   SELECT * FROM sqlite_temp_master) WHERE name = 'ownership_data' AND type = 'table'\n",
      "2021-05-05 18:10:13,347 INFO sqlalchemy.engine.base.Engine ()\n",
      "2021-05-05 18:10:13,350 INFO sqlalchemy.engine.base.Engine PRAGMA main.foreign_key_list(\"ownership_data\")\n",
      "2021-05-05 18:10:13,351 INFO sqlalchemy.engine.base.Engine ()\n",
      "2021-05-05 18:10:13,353 INFO sqlalchemy.engine.base.Engine PRAGMA temp.foreign_key_list(\"ownership_data\")\n",
      "2021-05-05 18:10:13,356 INFO sqlalchemy.engine.base.Engine ()\n",
      "2021-05-05 18:10:13,357 INFO sqlalchemy.engine.base.Engine SELECT sql FROM  (SELECT * FROM sqlite_master UNION ALL   SELECT * FROM sqlite_temp_master) WHERE name = 'ownership_data' AND type = 'table'\n",
      "2021-05-05 18:10:13,359 INFO sqlalchemy.engine.base.Engine ()\n",
      "2021-05-05 18:10:13,364 INFO sqlalchemy.engine.base.Engine PRAGMA main.index_list(\"ownership_data\")\n",
      "2021-05-05 18:10:13,365 INFO sqlalchemy.engine.base.Engine ()\n",
      "2021-05-05 18:10:13,367 INFO sqlalchemy.engine.base.Engine PRAGMA temp.index_list(\"ownership_data\")\n",
      "2021-05-05 18:10:13,368 INFO sqlalchemy.engine.base.Engine ()\n",
      "2021-05-05 18:10:13,370 INFO sqlalchemy.engine.base.Engine PRAGMA main.index_list(\"ownership_data\")\n",
      "2021-05-05 18:10:13,371 INFO sqlalchemy.engine.base.Engine ()\n",
      "2021-05-05 18:10:13,375 INFO sqlalchemy.engine.base.Engine PRAGMA temp.index_list(\"ownership_data\")\n",
      "2021-05-05 18:10:13,376 INFO sqlalchemy.engine.base.Engine ()\n",
      "2021-05-05 18:10:13,378 INFO sqlalchemy.engine.base.Engine SELECT sql FROM  (SELECT * FROM sqlite_master UNION ALL   SELECT * FROM sqlite_temp_master) WHERE name = 'ownership_data' AND type = 'table'\n",
      "2021-05-05 18:10:13,379 INFO sqlalchemy.engine.base.Engine ()\n",
      "2021-05-05 18:10:13,386 INFO sqlalchemy.engine.base.Engine PRAGMA main.table_info(\"poverty_data\")\n",
      "2021-05-05 18:10:13,389 INFO sqlalchemy.engine.base.Engine ()\n",
      "2021-05-05 18:10:13,395 INFO sqlalchemy.engine.base.Engine SELECT sql FROM  (SELECT * FROM sqlite_master UNION ALL   SELECT * FROM sqlite_temp_master) WHERE name = 'poverty_data' AND type = 'table'\n",
      "2021-05-05 18:10:13,397 INFO sqlalchemy.engine.base.Engine ()\n",
      "2021-05-05 18:10:13,399 INFO sqlalchemy.engine.base.Engine PRAGMA main.foreign_key_list(\"poverty_data\")\n",
      "2021-05-05 18:10:13,401 INFO sqlalchemy.engine.base.Engine ()\n",
      "2021-05-05 18:10:13,402 INFO sqlalchemy.engine.base.Engine PRAGMA temp.foreign_key_list(\"poverty_data\")\n",
      "2021-05-05 18:10:13,404 INFO sqlalchemy.engine.base.Engine ()\n",
      "2021-05-05 18:10:13,405 INFO sqlalchemy.engine.base.Engine SELECT sql FROM  (SELECT * FROM sqlite_master UNION ALL   SELECT * FROM sqlite_temp_master) WHERE name = 'poverty_data' AND type = 'table'\n",
      "2021-05-05 18:10:13,406 INFO sqlalchemy.engine.base.Engine ()\n",
      "2021-05-05 18:10:13,408 INFO sqlalchemy.engine.base.Engine PRAGMA main.index_list(\"poverty_data\")\n",
      "2021-05-05 18:10:13,410 INFO sqlalchemy.engine.base.Engine ()\n",
      "2021-05-05 18:10:13,413 INFO sqlalchemy.engine.base.Engine PRAGMA temp.index_list(\"poverty_data\")\n",
      "2021-05-05 18:10:13,414 INFO sqlalchemy.engine.base.Engine ()\n",
      "2021-05-05 18:10:13,415 INFO sqlalchemy.engine.base.Engine PRAGMA main.index_list(\"poverty_data\")\n",
      "2021-05-05 18:10:13,416 INFO sqlalchemy.engine.base.Engine ()\n",
      "2021-05-05 18:10:13,418 INFO sqlalchemy.engine.base.Engine PRAGMA temp.index_list(\"poverty_data\")\n",
      "2021-05-05 18:10:13,419 INFO sqlalchemy.engine.base.Engine ()\n",
      "2021-05-05 18:10:13,422 INFO sqlalchemy.engine.base.Engine SELECT sql FROM  (SELECT * FROM sqlite_master UNION ALL   SELECT * FROM sqlite_temp_master) WHERE name = 'poverty_data' AND type = 'table'\n",
      "2021-05-05 18:10:13,424 INFO sqlalchemy.engine.base.Engine ()\n",
      "2021-05-05 18:10:13,436 INFO sqlalchemy.engine.base.Engine PRAGMA main.table_info(\"shooting_data\")\n",
      "2021-05-05 18:10:13,443 INFO sqlalchemy.engine.base.Engine ()\n",
      "2021-05-05 18:10:13,447 INFO sqlalchemy.engine.base.Engine SELECT sql FROM  (SELECT * FROM sqlite_master UNION ALL   SELECT * FROM sqlite_temp_master) WHERE name = 'shooting_data' AND type = 'table'\n",
      "2021-05-05 18:10:13,451 INFO sqlalchemy.engine.base.Engine ()\n",
      "2021-05-05 18:10:13,453 INFO sqlalchemy.engine.base.Engine PRAGMA main.foreign_key_list(\"shooting_data\")\n",
      "2021-05-05 18:10:13,454 INFO sqlalchemy.engine.base.Engine ()\n",
      "2021-05-05 18:10:13,455 INFO sqlalchemy.engine.base.Engine PRAGMA temp.foreign_key_list(\"shooting_data\")\n",
      "2021-05-05 18:10:13,457 INFO sqlalchemy.engine.base.Engine ()\n",
      "2021-05-05 18:10:13,458 INFO sqlalchemy.engine.base.Engine SELECT sql FROM  (SELECT * FROM sqlite_master UNION ALL   SELECT * FROM sqlite_temp_master) WHERE name = 'shooting_data' AND type = 'table'\n",
      "2021-05-05 18:10:13,460 INFO sqlalchemy.engine.base.Engine ()\n",
      "2021-05-05 18:10:13,462 INFO sqlalchemy.engine.base.Engine PRAGMA main.index_list(\"shooting_data\")\n",
      "2021-05-05 18:10:13,463 INFO sqlalchemy.engine.base.Engine ()\n",
      "2021-05-05 18:10:13,467 INFO sqlalchemy.engine.base.Engine PRAGMA temp.index_list(\"shooting_data\")\n",
      "2021-05-05 18:10:13,474 INFO sqlalchemy.engine.base.Engine ()\n",
      "2021-05-05 18:10:13,478 INFO sqlalchemy.engine.base.Engine PRAGMA main.index_list(\"shooting_data\")\n",
      "2021-05-05 18:10:13,479 INFO sqlalchemy.engine.base.Engine ()\n",
      "2021-05-05 18:10:13,482 INFO sqlalchemy.engine.base.Engine PRAGMA temp.index_list(\"shooting_data\")\n",
      "2021-05-05 18:10:13,483 INFO sqlalchemy.engine.base.Engine ()\n",
      "2021-05-05 18:10:13,485 INFO sqlalchemy.engine.base.Engine SELECT sql FROM  (SELECT * FROM sqlite_master UNION ALL   SELECT * FROM sqlite_temp_master) WHERE name = 'shooting_data' AND type = 'table'\n",
      "2021-05-05 18:10:13,492 INFO sqlalchemy.engine.base.Engine ()\n"
     ]
    }
   ],
   "source": [
    "# Use the Base class to reflect the database tables\n",
    "Base.prepare(engine, reflect=True)"
   ]
  },
  {
   "cell_type": "code",
   "execution_count": 6,
   "metadata": {},
   "outputs": [
    {
     "data": {
      "text/plain": [
       "['ownership_data', 'poverty_data', 'shooting_data']"
      ]
     },
     "execution_count": 6,
     "metadata": {},
     "output_type": "execute_result"
    }
   ],
   "source": [
    "# Print all of the classes mapped to the Base\n",
    "Base.classes.keys()"
   ]
  },
  {
   "cell_type": "code",
   "execution_count": 7,
   "metadata": {},
   "outputs": [],
   "source": [
    "data = Base.classes.shooting_data\n",
    "guns = Base.classes.ownership_data\n",
    "poverty = Base.classes.poverty_data"
   ]
  },
  {
   "cell_type": "code",
   "execution_count": 11,
   "metadata": {},
   "outputs": [
    {
     "name": "stdout",
     "output_type": "stream",
     "text": [
      "2021-05-05 18:10:58,293 INFO sqlalchemy.engine.base.Engine SELECT shooting_data.longitude AS shooting_data_longitude \n",
      "FROM shooting_data\n",
      "2021-05-05 18:10:58,295 INFO sqlalchemy.engine.base.Engine ()\n",
      "2021-05-05 18:10:58,309 INFO sqlalchemy.engine.base.Engine SELECT shooting_data.latitude AS shooting_data_latitude \n",
      "FROM shooting_data\n",
      "2021-05-05 18:10:58,311 INFO sqlalchemy.engine.base.Engine ()\n",
      "2021-05-05 18:10:58,325 INFO sqlalchemy.engine.base.Engine SELECT shooting_data.number_killed AS shooting_data_number_killed \n",
      "FROM shooting_data\n",
      "2021-05-05 18:10:58,328 INFO sqlalchemy.engine.base.Engine ()\n",
      "2021-05-05 18:10:58,349 INFO sqlalchemy.engine.base.Engine SELECT shooting_data.number_injured AS shooting_data_number_injured \n",
      "FROM shooting_data\n",
      "2021-05-05 18:10:58,351 INFO sqlalchemy.engine.base.Engine ()\n",
      "2021-05-05 18:10:58,364 INFO sqlalchemy.engine.base.Engine SELECT shooting_data.incident_date AS shooting_data_incident_date \n",
      "FROM shooting_data\n",
      "2021-05-05 18:10:58,366 INFO sqlalchemy.engine.base.Engine ()\n",
      "2021-05-05 18:10:58,399 INFO sqlalchemy.engine.base.Engine SELECT shooting_data.state AS shooting_data_state \n",
      "FROM shooting_data\n",
      "2021-05-05 18:10:58,407 INFO sqlalchemy.engine.base.Engine ()\n",
      "2021-05-05 18:10:58,428 INFO sqlalchemy.engine.base.Engine SELECT shooting_data.city_county AS shooting_data_city_county \n",
      "FROM shooting_data\n",
      "2021-05-05 18:10:58,433 INFO sqlalchemy.engine.base.Engine ()\n"
     ]
    }
   ],
   "source": [
    "lng = session.query(data.longitude).all()\n",
    "lat = session.query(data.latitude).all()\n",
    "killed = session.query(data.number_killed).all()\n",
    "injured = session.query(data.number_injured).all()\n",
    "date = session.query(data.incident_date).all()\n",
    "state = session.query(data.state).all()\n",
    "locale = session.query(data.city_county).all()"
   ]
  },
  {
   "cell_type": "code",
   "execution_count": null,
   "metadata": {},
   "outputs": [],
   "source": [
    "gun_states = session.query(guns.state).all()\n",
    "gun_capita = session.query(guns.number_per_capita).all()"
   ]
  },
  {
   "cell_type": "code",
   "execution_count": null,
   "metadata": {},
   "outputs": [],
   "source": [
    "poverty_states = session.query(poverty.state).all()\n",
    "poverty_rates = session.query(poverty.poverty_rate).all()"
   ]
  },
  {
   "cell_type": "code",
   "execution_count": null,
   "metadata": {},
   "outputs": [],
   "source": [
    "incident_list = {'date': date,\n",
    "                'state': state,\n",
    "                'city_county': locale,\n",
    "                'killed': killed,\n",
    "                'injured': injured,\n",
    "                'latitude': lat,\n",
    "                'longitude': lng}"
   ]
  },
  {
   "cell_type": "code",
   "execution_count": null,
   "metadata": {},
   "outputs": [],
   "source": [
    "gun_list = {'state': gun_states,\n",
    "                'num_guns': gun_capita}"
   ]
  },
  {
   "cell_type": "code",
   "execution_count": null,
   "metadata": {},
   "outputs": [],
   "source": [
    "poverty_list = {'state' : poverty_states,\n",
    "               'poverty_rates': poverty_rates}"
   ]
  },
  {
   "cell_type": "code",
   "execution_count": null,
   "metadata": {},
   "outputs": [],
   "source": []
  }
 ],
 "metadata": {
  "kernelspec": {
   "display_name": "Python [conda env:PythonData] *",
   "language": "python",
   "name": "conda-env-PythonData-py"
  },
  "language_info": {
   "codemirror_mode": {
    "name": "ipython",
    "version": 3
   },
   "file_extension": ".py",
   "mimetype": "text/x-python",
   "name": "python",
   "nbconvert_exporter": "python",
   "pygments_lexer": "ipython3",
   "version": "3.6.10"
  }
 },
 "nbformat": 4,
 "nbformat_minor": 4
}
